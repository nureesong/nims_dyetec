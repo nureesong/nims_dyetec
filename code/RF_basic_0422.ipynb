{
  "nbformat": 4,
  "nbformat_minor": 0,
  "metadata": {
    "colab": {
      "name": "RF_basic_0422.ipynb",
      "private_outputs": true,
      "provenance": [],
      "collapsed_sections": [
        "urFjIuLfmMa8"
      ],
      "toc_visible": true
    },
    "kernelspec": {
      "name": "python3",
      "display_name": "Python 3"
    },
    "language_info": {
      "name": "python"
    }
  },
  "cells": [
    {
      "cell_type": "code",
      "execution_count": null,
      "metadata": {
        "id": "az0UMUjK3nLi"
      },
      "outputs": [],
      "source": [
        "from google.colab import drive\n",
        "drive.mount('/content/drive')"
      ]
    },
    {
      "cell_type": "code",
      "source": [
        "%cd /content/drive/MyDrive/Dyetec"
      ],
      "metadata": {
        "id": "3_7kcZa_3yxJ"
      },
      "execution_count": null,
      "outputs": []
    },
    {
      "cell_type": "code",
      "source": [
        "import os\n",
        "import pandas as pd\n",
        "import numpy as np\n",
        "import random\n",
        "\n",
        "pd.options.display.max_rows = 100\n",
        "pd.options.display.max_columns = 50\n",
        "\n",
        "from sklearn.model_selection import train_test_split\n",
        "from sklearn.ensemble import RandomForestRegressor\n",
        "from sklearn.metrics import mean_squared_error"
      ],
      "metadata": {
        "id": "iQRb-8H5389l"
      },
      "execution_count": null,
      "outputs": []
    },
    {
      "cell_type": "code",
      "source": [
        "# Configs\n",
        "SEED = 42\n",
        "\n",
        "N_ESTIMATORS = 100\n",
        "MAX_DEPTH = 20\n",
        "CRITERION = 'squared_error'  # 'absolute_error'\n",
        "# MAX_SAMPLES = 0.1  # range (0, 1.0)"
      ],
      "metadata": {
        "id": "8TO5VuQmghA5"
      },
      "execution_count": null,
      "outputs": []
    },
    {
      "cell_type": "code",
      "source": [
        "def seed_everything(seed=42):\n",
        "    random.seed(seed)\n",
        "    np.random.seed(seed)\n",
        "\n",
        "seed_everything(SEED)"
      ],
      "metadata": {
        "id": "7Zu6kzW7gZsf"
      },
      "execution_count": null,
      "outputs": []
    },
    {
      "cell_type": "markdown",
      "source": [
        "### Data Loading"
      ],
      "metadata": {
        "id": "aVrlyzVQgaE-"
      }
    },
    {
      "cell_type": "code",
      "source": [
        "df = pd.read_excel('rawdata.xlsx', skiprows=2)\n",
        "df.drop(labels=0, inplace=True)\n",
        "df.reset_index(drop=True, inplace=True)\n",
        "df.drop(columns=['태그'], inplace=True)\n",
        "df = df.iloc[:, :54]\n",
        "df"
      ],
      "metadata": {
        "id": "2cYOOb4ALv3s"
      },
      "execution_count": null,
      "outputs": []
    },
    {
      "cell_type": "markdown",
      "source": [
        "### Train & Test Dataset"
      ],
      "metadata": {
        "id": "fHoUfUQahAiN"
      }
    },
    {
      "cell_type": "code",
      "source": [
        "X, y = df.iloc[:,3:], df.iloc[:,:3]\n",
        "print(X.shape, y.shape)"
      ],
      "metadata": {
        "id": "iMa6mjps4EQK"
      },
      "execution_count": null,
      "outputs": []
    },
    {
      "cell_type": "code",
      "source": [
        "X_train, X_test, y_train, y_test = train_test_split(X, y, test_size=0.2, random_state=SEED)\n",
        "\n",
        "print(X_train.shape, y_train.shape)\n",
        "print(X_test.shape, y_test.shape)"
      ],
      "metadata": {
        "id": "M3XEganvLaPa"
      },
      "execution_count": null,
      "outputs": []
    },
    {
      "cell_type": "markdown",
      "source": [
        "타겟변수 3개 -> 일단 하나씩 예측해보자."
      ],
      "metadata": {
        "id": "7P1AMn52hO40"
      }
    },
    {
      "cell_type": "code",
      "source": [
        "# y가 1d-array여야 함.\n",
        "y_train_L, y_train_a, y_train_b = y_train.iloc[:,0], y_train.iloc[:,1], y_train.iloc[:,2]\n",
        "print(y_train_L.shape, y_train_a.shape, y_train_b.shape)\n",
        "\n",
        "# y_test_L, y_test_a, y_test_b = y_test.iloc[:,0], y_test.iloc[:,1], y_test.iloc[:,2]\n",
        "# print(y_test_L.shape, y_test_a.shape, y_test_b.shape)"
      ],
      "metadata": {
        "id": "sUoPI7CZhOL_"
      },
      "execution_count": null,
      "outputs": []
    },
    {
      "cell_type": "markdown",
      "source": [
        "### EDA"
      ],
      "metadata": {
        "id": "nyPQsGDWiGCn"
      }
    },
    {
      "cell_type": "code",
      "source": [
        "X_train.info()"
      ],
      "metadata": {
        "id": "1K4gtOz5h9Gc"
      },
      "execution_count": null,
      "outputs": []
    },
    {
      "cell_type": "code",
      "source": [
        "# 결측값 존재 확인\n",
        "X_train.isna().sum().sum(), X_test.isna().sum().sum()"
      ],
      "metadata": {
        "id": "b4g4IVX_h9KT"
      },
      "execution_count": null,
      "outputs": []
    },
    {
      "cell_type": "markdown",
      "source": [
        "### Training"
      ],
      "metadata": {
        "id": "GalkvrVviaVM"
      }
    },
    {
      "cell_type": "code",
      "source": [
        "model = RandomForestRegressor(n_estimators=N_ESTIMATORS, \n",
        "                              max_depth=MAX_DEPTH,\n",
        "                              criterion=CRITERION,\n",
        "                              max_samples=MAX_SAMPLES,\n",
        "                              warm_start=False, # default \n",
        "                              random_state=SEED)"
      ],
      "metadata": {
        "id": "q2HKQRYsh9NZ"
      },
      "execution_count": null,
      "outputs": []
    },
    {
      "cell_type": "markdown",
      "source": [
        "### L, a, b 따로 학습 및 예측"
      ],
      "metadata": {
        "id": "1dbJeZYRl8GF"
      }
    },
    {
      "cell_type": "markdown",
      "source": [
        "- 타켓변수 = L"
      ],
      "metadata": {
        "id": "4JtXuhfCqQWs"
      }
    },
    {
      "cell_type": "code",
      "source": [
        "model.fit(X_train, y_train_L)\n",
        "print(f'R-squared for L*: {round(model.score(X_train, y_train_L),4)}')"
      ],
      "metadata": {
        "id": "a1fL_Yn5h9RG"
      },
      "execution_count": null,
      "outputs": []
    },
    {
      "cell_type": "code",
      "source": [
        "L_pred = model.predict(X_test)"
      ],
      "metadata": {
        "id": "HzBepnLuqNxT"
      },
      "execution_count": null,
      "outputs": []
    },
    {
      "cell_type": "markdown",
      "source": [
        "- 타켓변수 = a"
      ],
      "metadata": {
        "id": "2lKmjGxzqu0B"
      }
    },
    {
      "cell_type": "code",
      "source": [
        "model.fit(X_train, y_train_a)\n",
        "print(f'R-squared for a*: {round(model.score(X_train, y_train_a),4)}')"
      ],
      "metadata": {
        "id": "2wXVbo22lm_9"
      },
      "execution_count": null,
      "outputs": []
    },
    {
      "cell_type": "code",
      "source": [
        "a_pred = model.predict(X_test)"
      ],
      "metadata": {
        "id": "QOHg4wMBqtxw"
      },
      "execution_count": null,
      "outputs": []
    },
    {
      "cell_type": "markdown",
      "source": [
        "- 타켓변수 = b"
      ],
      "metadata": {
        "id": "iKQQ6VrVq5z4"
      }
    },
    {
      "cell_type": "code",
      "source": [
        "model.fit(X_train, y_train_b)\n",
        "print(f'R-squared for b*: {round(model.score(X_train, y_train_b),4)}')"
      ],
      "metadata": {
        "id": "Srs4tNU8lm88"
      },
      "execution_count": null,
      "outputs": []
    },
    {
      "cell_type": "code",
      "source": [
        "b_pred = model.predict(X_test)"
      ],
      "metadata": {
        "id": "lFjR2G_Gq9Oo"
      },
      "execution_count": null,
      "outputs": []
    },
    {
      "cell_type": "code",
      "source": [
        "df_pred_sep = pd.DataFrame()\n",
        "df_pred_sep['L_pred_sep'] = L_pred\n",
        "df_pred_sep['a_pred_sep'] = a_pred\n",
        "df_pred_sep['b_pred_sep'] = b_pred\n",
        "\n",
        "df_pred_sep"
      ],
      "metadata": {
        "id": "gCB7t7lhrAIe"
      },
      "execution_count": null,
      "outputs": []
    },
    {
      "cell_type": "markdown",
      "source": [
        "### L, a, b 한꺼번에 학습 및 예측"
      ],
      "metadata": {
        "id": "UgB4ytJ6mBeM"
      }
    },
    {
      "cell_type": "code",
      "source": [
        "model.fit(X_train, y_train)\n",
        "print(f'R-squared for L*,a*,b*: {round(model.score(X_train, y_train),4)}')"
      ],
      "metadata": {
        "id": "CnszQAbxlm5i"
      },
      "execution_count": null,
      "outputs": []
    },
    {
      "cell_type": "code",
      "source": [
        "y_pred = model.predict(X_test)\n",
        "df_pred = pd.DataFrame(y_pred, columns=['L_pred', 'a_pred', 'b_pred'])\n",
        "df_pred"
      ],
      "metadata": {
        "id": "u6k-fPgalm2j"
      },
      "execution_count": null,
      "outputs": []
    },
    {
      "cell_type": "markdown",
      "source": [
        "### 정답, Lab 따로, Lab 한꺼번에  결과 비교"
      ],
      "metadata": {
        "id": "u3ZNG1IAsC2N"
      }
    },
    {
      "cell_type": "code",
      "source": [
        "pd.concat([y_test.reset_index(drop=True), df_pred_sep, df_pred], axis=1)"
      ],
      "metadata": {
        "id": "1QsGwSj_lmXz"
      },
      "execution_count": null,
      "outputs": []
    },
    {
      "cell_type": "markdown",
      "source": [
        "### 모델 성능 평가\n",
        "- Metric 뭘로 하지?? L,a,b의 MSE 총합??"
      ],
      "metadata": {
        "id": "jgHVA5GZsX9d"
      }
    },
    {
      "cell_type": "code",
      "source": [
        "mean_squared_error(y_test, y_pred)"
      ],
      "metadata": {
        "id": "YIsoocMPkZ8X"
      },
      "execution_count": null,
      "outputs": []
    },
    {
      "cell_type": "code",
      "source": [
        "print(round(mean_squared_error(y_test.iloc[:,0], L_pred),4))\n",
        "print(round(mean_squared_error(y_test.iloc[:,1], a_pred),4))\n",
        "print(round(mean_squared_error(y_test.iloc[:,2], b_pred),4))"
      ],
      "metadata": {
        "id": "UH3wEej2lOZR"
      },
      "execution_count": null,
      "outputs": []
    },
    {
      "cell_type": "markdown",
      "source": [
        "### 컬럼명 바꾸기"
      ],
      "metadata": {
        "id": "urFjIuLfmMa8"
      }
    },
    {
      "cell_type": "code",
      "source": [
        "# cols = df.columns\n",
        "# df.rename(columns={cols[0]:'L', cols[1]:'a', cols[2]:'b'}, inplace=True)"
      ],
      "metadata": {
        "id": "6TFvJouyI3xp"
      },
      "execution_count": null,
      "outputs": []
    },
    {
      "cell_type": "code",
      "source": [
        "#  L,a,b = df.iloc[:,0], df.iloc[:,1], df.iloc[:,2]"
      ],
      "metadata": {
        "id": "3fGvLVbZ4Hop"
      },
      "execution_count": null,
      "outputs": []
    },
    {
      "cell_type": "code",
      "source": [
        ""
      ],
      "metadata": {
        "id": "T7z2kmQL4-8O"
      },
      "execution_count": null,
      "outputs": []
    },
    {
      "cell_type": "code",
      "source": [
        ""
      ],
      "metadata": {
        "id": "0cqFXCD3Iox1"
      },
      "execution_count": null,
      "outputs": []
    }
  ]
}