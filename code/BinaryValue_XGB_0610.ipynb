{
  "nbformat": 4,
  "nbformat_minor": 0,
  "metadata": {
    "colab": {
      "name": "BinaryValue_XGB_0610.ipynb",
      "provenance": [],
      "collapsed_sections": [
        "UZ7orAhcIx9m"
      ],
      "toc_visible": true
    },
    "kernelspec": {
      "name": "python3",
      "display_name": "Python 3"
    },
    "language_info": {
      "name": "python"
    }
  },
  "cells": [
    {
      "cell_type": "markdown",
      "source": [
        "## Settings"
      ],
      "metadata": {
        "id": "or6bWxExGCEA"
      }
    },
    {
      "cell_type": "code",
      "source": [
        "%cd /content/drive/MyDrive/Dyetec"
      ],
      "metadata": {
        "colab": {
          "base_uri": "https://localhost:8080/"
        },
        "id": "jFXUO9jXFtnA",
        "outputId": "61d317ac-3284-4b97-f15a-36a99e30d11b"
      },
      "execution_count": 2,
      "outputs": [
        {
          "output_type": "stream",
          "name": "stdout",
          "text": [
            "/content/drive/MyDrive/Dyetec\n"
          ]
        }
      ]
    },
    {
      "cell_type": "code",
      "source": [
        "!pip install colormath"
      ],
      "metadata": {
        "id": "Vp0_V9mBF5b4"
      },
      "execution_count": null,
      "outputs": []
    },
    {
      "cell_type": "code",
      "source": [
        "import os\n",
        "import random\n",
        "import pandas as pd\n",
        "import numpy as np\n",
        "pd.options.display.max_rows = 100\n",
        "pd.options.display.max_columns = 50\n",
        "\n",
        "import matplotlib.pyplot as plt\n",
        "import seaborn as sns\n",
        "\n",
        "from colormath.color_objects import LabColor\n",
        "from colormath.color_diff import delta_e_cmc\n",
        "\n",
        "from sklearn.model_selection import train_test_split\n",
        "from sklearn.ensemble import RandomForestRegressor\n",
        "import xgboost as xgb\n",
        "from xgboost import plot_importance\n",
        "from sklearn.multioutput import MultiOutputRegressor\n",
        "from sklearn.metrics import mean_squared_error"
      ],
      "metadata": {
        "id": "Bt_VK_t6F7Xz"
      },
      "execution_count": 4,
      "outputs": []
    },
    {
      "cell_type": "markdown",
      "source": [
        "### Configurations"
      ],
      "metadata": {
        "id": "4NN43h7Wslxl"
      }
    },
    {
      "cell_type": "code",
      "source": [
        "#====  RandomForest  ====\n",
        "N_ESTIMATORS = 100\n",
        "# N_ESTIMATORS = 200\n",
        "MAX_DEPTH = 20\n",
        "CRITERION = 'squared_error'  # 'absolute_error'\n",
        "MAX_SAMPLES = 1.0            # range (0, 1.0)\n",
        "\n",
        "#=====  XGBoost  =====\n",
        "BOOSTER = 'gbtree' # default. Gradient Boosting tree\n",
        "LR = 0.1\n",
        "MAX_DEPTH = 20\n",
        "N_ESTIMATORS = 100\n",
        "OBJECTIVE = 'reg:squarederror'\n",
        "SILENT = False\n",
        "SUBSAMPLE = 1.0  # Subsample ratio from the training set\n",
        "\n",
        "colsample_bylevel = 1.0\n",
        "colsample_bytree = 1.0\n",
        "EARLY_STOPPING_ROUNDS = 10  # 에러가 n번 증가하면 학습 중단, default 10\n",
        "GAMMA = 0.0\n",
        "MAX_DELTA_STEP = 0.0\n",
        "min_child_weights = 1.0 # Minimum sum of weights needed in each child node for a split.\n",
        "num_parallel_tree = 1\n",
        "\n",
        "# 'dart'인 경우에만 적용 - overfitting 방지\n",
        "NORMALIZE_TYPE = 'tree'  # how to normalize trees, default 'tree'\n",
        "ONE_DROP = True          # 1개 이상의 트리를 드롭아웃\n",
        "RATE_DROP = 0.5          # 각 트리를 드롭아웃할 확률, default 0.0\n",
        "REG_ALPHA = 0.2          # L1 regularization on the weights, default 0.0\n",
        "REG_LAMBDA = 0.8         # L2 regularization on the weights, default 1.0\n",
        "SAMPLE_TYPE = 'weighted' # 드롭아웃 확률을 트리의 가중치에 비례하게, default 'uniform'\n",
        "SKIP_DROP = 0.2          # skipping the dropout during a given iteration, default 0.0\n"
      ],
      "metadata": {
        "id": "j9BMZKDYGFD_"
      },
      "execution_count": 5,
      "outputs": []
    },
    {
      "cell_type": "code",
      "source": [
        "SEED = 42\n",
        "def seed_everything(seed=42):\n",
        "    random.seed(seed)\n",
        "    np.random.seed(seed)\n",
        "\n",
        "seed_everything(SEED)"
      ],
      "metadata": {
        "id": "Xq2qsjPQGKpY"
      },
      "execution_count": 6,
      "outputs": []
    },
    {
      "cell_type": "markdown",
      "source": [
        "## Data Loading"
      ],
      "metadata": {
        "id": "xzNzHD5iGPHI"
      }
    },
    {
      "cell_type": "code",
      "source": [
        "df = pd.read_excel('rawdata.xlsx', skiprows=2)\n",
        "df.drop(labels=0, inplace=True)\n",
        "df.reset_index(drop=True, inplace=True)\n",
        "df.drop(columns=['태그'], inplace=True)\n",
        "df = df.iloc[:, :54]"
      ],
      "metadata": {
        "id": "X4tbdOfQAeos"
      },
      "execution_count": 7,
      "outputs": []
    },
    {
      "cell_type": "code",
      "source": [
        "# 컬럼 순서 변경\n",
        "cols = list(df.columns[[0,2,1]].values) + list(df.columns[3:].values)\n",
        "df = df[cols]\n",
        "df"
      ],
      "metadata": {
        "colab": {
          "base_uri": "https://localhost:8080/",
          "height": 592
        },
        "id": "1NmbPSciGMqt",
        "outputId": "61d8f4dc-0c96-4de9-a7d6-7a37e41a6e2d"
      },
      "execution_count": 8,
      "outputs": [
        {
          "output_type": "execute_result",
          "data": {
            "text/plain": [
              "      Lab 후가공 후 검사_L*  Lab 후가공 후 검사_a*  Lab 후가공 후 검사_b*  Dianix Yellow AM-2R  \\\n",
              "0              50.510          10.5500            9.480                  0.0   \n",
              "1              51.460          10.0100            9.790                  0.0   \n",
              "2              51.870          10.2400            9.480                  0.0   \n",
              "3              48.930          10.9200            9.570                  0.0   \n",
              "4              49.580          10.5200            9.790                  0.0   \n",
              "...               ...              ...              ...                  ...   \n",
              "1679           48.260          57.3950           50.385                  0.0   \n",
              "1680           48.250          57.0850           50.180                  0.0   \n",
              "1681           69.100          30.2775           84.880                  0.0   \n",
              "1682           69.835          29.0850           84.570                  0.0   \n",
              "1683           68.855          30.6500           84.865                  0.0   \n",
              "\n",
              "      Dianix Red AM-SLR  Dianix Blue AM-2G  Dorosperse Yellow KKL  \\\n",
              "0                   0.0                0.0                    0.0   \n",
              "1                   0.0                0.0                    0.0   \n",
              "2                   0.0                0.0                    0.0   \n",
              "3                   0.0                0.0                    0.0   \n",
              "4                   0.0                0.0                    0.0   \n",
              "...                 ...                ...                    ...   \n",
              "1679                0.0                0.0                    4.0   \n",
              "1680                0.0                0.0                    4.0   \n",
              "1681                0.0                0.0                    6.0   \n",
              "1682                0.0                0.0                    6.0   \n",
              "1683                0.0                0.0                    6.0   \n",
              "\n",
              "      Synolon Yellow AK  Dorosperse Red KKL  Synolon Red AK  Synolon Blue AK  \\\n",
              "0                   0.0                 0.0             0.0              0.0   \n",
              "1                   0.0                 0.0             0.0              0.0   \n",
              "2                   0.0                 0.0             0.0              0.0   \n",
              "3                   0.0                 0.0             0.0              0.0   \n",
              "4                   0.0                 0.0             0.0              0.0   \n",
              "...                 ...                 ...             ...              ...   \n",
              "1679                0.0                 2.0             0.0              0.0   \n",
              "1680                0.0                 2.0             0.0              0.0   \n",
              "1681                0.0                 0.0             0.0              0.0   \n",
              "1682                0.0                 0.0             0.0              0.0   \n",
              "1683                0.0                 0.0             0.0              0.0   \n",
              "\n",
              "      Dorosperse Blue KKL  Dorosperse Yellow KKL_prop  \\\n",
              "0                     0.0                    0.000000   \n",
              "1                     0.0                    0.000000   \n",
              "2                     0.0                    0.000000   \n",
              "3                     0.0                    0.000000   \n",
              "4                     0.0                    0.000000   \n",
              "...                   ...                         ...   \n",
              "1679                  0.0                    0.666667   \n",
              "1680                  0.0                    0.666667   \n",
              "1681                  0.0                    1.000000   \n",
              "1682                  0.0                    1.000000   \n",
              "1683                  0.0                    1.000000   \n",
              "\n",
              "      Dorosperse Red KKL_prop  Dianix Red AM-SLR_prop  Dianix Blue AM-2G_prop  \\\n",
              "0                    0.000000                     0.0                     0.0   \n",
              "1                    0.000000                     0.0                     0.0   \n",
              "2                    0.000000                     0.0                     0.0   \n",
              "3                    0.000000                     0.0                     0.0   \n",
              "4                    0.000000                     0.0                     0.0   \n",
              "...                       ...                     ...                     ...   \n",
              "1679                 0.333333                     0.0                     0.0   \n",
              "1680                 0.333333                     0.0                     0.0   \n",
              "1681                 0.000000                     0.0                     0.0   \n",
              "1682                 0.000000                     0.0                     0.0   \n",
              "1683                 0.000000                     0.0                     0.0   \n",
              "\n",
              "      Dianix Yellow AM-2R_prop  Dorosperse Blue KKL_prop  \\\n",
              "0                          0.0                       0.0   \n",
              "1                          0.0                       0.0   \n",
              "2                          0.0                       0.0   \n",
              "3                          0.0                       0.0   \n",
              "4                          0.0                       0.0   \n",
              "...                        ...                       ...   \n",
              "1679                       0.0                       0.0   \n",
              "1680                       0.0                       0.0   \n",
              "1681                       0.0                       0.0   \n",
              "1682                       0.0                       0.0   \n",
              "1683                       0.0                       0.0   \n",
              "\n",
              "      Synolon Yellow AK_prop  Synolon Red AK_prop  Synolon Blue AK_prop  \\\n",
              "0                        0.0                  0.0                   0.0   \n",
              "1                        0.0                  0.0                   0.0   \n",
              "2                        0.0                  0.0                   0.0   \n",
              "3                        0.0                  0.0                   0.0   \n",
              "4                        0.0                  0.0                   0.0   \n",
              "...                      ...                  ...                   ...   \n",
              "1679                     0.0                  0.0                   0.0   \n",
              "1680                     0.0                  0.0                   0.0   \n",
              "1681                     0.0                  0.0                   0.0   \n",
              "1682                     0.0                  0.0                   0.0   \n",
              "1683                     0.0                  0.0                   0.0   \n",
              "\n",
              "      Dianix Yellow Brown AM-R  Synofast 28  Dorosperse Dark Grey KKL  \\\n",
              "0                          0.0          0.5                       0.0   \n",
              "1                          0.0          0.5                       0.0   \n",
              "2                          0.0          0.5                       0.0   \n",
              "3                          0.0          1.0                       0.0   \n",
              "4                          0.0          1.0                       0.0   \n",
              "...                        ...          ...                       ...   \n",
              "1679                       0.0          0.0                       0.0   \n",
              "1680                       0.0          0.0                       0.0   \n",
              "1681                       0.0          0.0                       0.0   \n",
              "1682                       0.0          0.0                       0.0   \n",
              "1683                       0.0          0.0                       0.0   \n",
              "\n",
              "      Dorosperse B/K KKL  ...  Synolon Dark Grey AK  Lab 염색 상승온도 #3 유지시간  \\\n",
              "0                    0.0  ...                   0.0                 60.0   \n",
              "1                    0.0  ...                   0.0                 60.0   \n",
              "2                    0.0  ...                   0.0                 60.0   \n",
              "3                    0.0  ...                   0.0                 60.0   \n",
              "4                    0.0  ...                   0.0                 60.0   \n",
              "...                  ...  ...                   ...                  ...   \n",
              "1679                 0.0  ...                   0.0                 70.0   \n",
              "1680                 0.0  ...                   0.0                 80.0   \n",
              "1681                 0.0  ...                   0.0                 60.0   \n",
              "1682                 0.0  ...                   0.0                 60.0   \n",
              "1683                 0.0  ...                   0.0                 60.0   \n",
              "\n",
              "      Lab 염색 상승속도 #3  Lab 염색 상승온도 #3  배합_Sera Fast P-UVC  배합_UVK-400 H/C  \\\n",
              "0           1.500000           136.0                 0.0             0.0   \n",
              "1           1.500000           136.0                 4.0             0.0   \n",
              "2           1.500000           136.0                 0.0             4.0   \n",
              "3           1.500000           136.0                 0.0             0.0   \n",
              "4           1.500000           136.0                 4.0             0.0   \n",
              "...              ...             ...                 ...             ...   \n",
              "1679        1.458333           135.0                 0.0             0.0   \n",
              "1680        1.458333           135.0                 0.0             0.0   \n",
              "1681        1.458333           135.0                 0.0             0.0   \n",
              "1682        1.458333           135.0                 0.0             0.0   \n",
              "1683        1.458333           135.0                 0.0             0.0   \n",
              "\n",
              "      배합_Fadex® TS liq  후처리_Sera Con M-FAS  Lab 염색 상승속도 #2  Lab 염색 하강속도 #1  \\\n",
              "0                  0.0                 2.0            0.75         2.00000   \n",
              "1                  4.0                 2.0            0.75         2.00000   \n",
              "2                  0.0                 2.0            0.75         2.00000   \n",
              "3                  0.0                 2.0            0.75         2.00000   \n",
              "4                  4.0                 2.0            0.75         2.00000   \n",
              "...                ...                 ...             ...             ...   \n",
              "1679               0.0                 4.0            0.75         1.97222   \n",
              "1680               0.0                 4.0            0.75         1.97222   \n",
              "1681               0.0                 4.0            0.75         1.97222   \n",
              "1682               2.0                 4.0            0.75         1.97222   \n",
              "1683               4.0                 4.0            0.75         1.97222   \n",
              "\n",
              "      Synofast 28_prop  Dianix Grey AM-SLR_prop  전처리_CH3COOH  배합_빙초산  \\\n",
              "0                  1.0                      0.0          0.5     0.5   \n",
              "1                  1.0                      0.0          0.5     0.5   \n",
              "2                  1.0                      0.0          0.5     0.5   \n",
              "3                  1.0                      0.0          0.5     0.5   \n",
              "4                  1.0                      0.0          0.5     0.5   \n",
              "...                ...                      ...          ...     ...   \n",
              "1679               0.0                      0.0          1.0     0.2   \n",
              "1680               0.0                      0.0          1.0     0.2   \n",
              "1681               0.0                      0.0          1.0     0.2   \n",
              "1682               0.0                      0.0          1.0     0.2   \n",
              "1683               0.0                      0.0          1.0     0.2   \n",
              "\n",
              "      Dorosperse Dark Grey KKL_prop  Dorosperse B/K KKL_prop  \\\n",
              "0                               0.0                      0.0   \n",
              "1                               0.0                      0.0   \n",
              "2                               0.0                      0.0   \n",
              "3                               0.0                      0.0   \n",
              "4                               0.0                      0.0   \n",
              "...                             ...                      ...   \n",
              "1679                            0.0                      0.0   \n",
              "1680                            0.0                      0.0   \n",
              "1681                            0.0                      0.0   \n",
              "1682                            0.0                      0.0   \n",
              "1683                            0.0                      0.0   \n",
              "\n",
              "      Dianix Black AM-SLR_prop  Dianix Yellow Brown AM-R_prop  배합_UVK-200  \\\n",
              "0                          0.0                            0.0         0.0   \n",
              "1                          0.0                            0.0         0.0   \n",
              "2                          0.0                            0.0         4.0   \n",
              "3                          0.0                            0.0         0.0   \n",
              "4                          0.0                            0.0         0.0   \n",
              "...                        ...                            ...         ...   \n",
              "1679                       0.0                            0.0         0.0   \n",
              "1680                       0.0                            0.0         0.0   \n",
              "1681                       0.0                            0.0         0.0   \n",
              "1682                       0.0                            0.0         0.0   \n",
              "1683                       0.0                            0.0         0.0   \n",
              "\n",
              "      제직_중량_생지  Dorosperse Brown K-3LR_prop  Lab 염색 상승속도 #1  후처리_NaOH  \\\n",
              "0        237.0                          0.0             1.5       2.0   \n",
              "1        237.0                          0.0             1.5       2.0   \n",
              "2        237.0                          0.0             1.5       2.0   \n",
              "3        237.0                          0.0             1.5       2.0   \n",
              "4        237.0                          0.0             1.5       2.0   \n",
              "...        ...                          ...             ...       ...   \n",
              "1679     242.0                          0.0             1.5       2.0   \n",
              "1680     242.0                          0.0             1.5       2.0   \n",
              "1681     242.0                          0.0             1.5       2.0   \n",
              "1682     242.0                          0.0             1.5       2.0   \n",
              "1683     242.0                          0.0             1.5       2.0   \n",
              "\n",
              "      Synolon Black AK-NB_prop  Synolon Dark Grey AK_prop  \n",
              "0                          0.0                        0.0  \n",
              "1                          0.0                        0.0  \n",
              "2                          0.0                        0.0  \n",
              "3                          0.0                        0.0  \n",
              "4                          0.0                        0.0  \n",
              "...                        ...                        ...  \n",
              "1679                       0.0                        0.0  \n",
              "1680                       0.0                        0.0  \n",
              "1681                       0.0                        0.0  \n",
              "1682                       0.0                        0.0  \n",
              "1683                       0.0                        0.0  \n",
              "\n",
              "[1684 rows x 54 columns]"
            ],
            "text/html": [
              "\n",
              "  <div id=\"df-f5baac70-8a2f-4da9-9ef0-395080826291\">\n",
              "    <div class=\"colab-df-container\">\n",
              "      <div>\n",
              "<style scoped>\n",
              "    .dataframe tbody tr th:only-of-type {\n",
              "        vertical-align: middle;\n",
              "    }\n",
              "\n",
              "    .dataframe tbody tr th {\n",
              "        vertical-align: top;\n",
              "    }\n",
              "\n",
              "    .dataframe thead th {\n",
              "        text-align: right;\n",
              "    }\n",
              "</style>\n",
              "<table border=\"1\" class=\"dataframe\">\n",
              "  <thead>\n",
              "    <tr style=\"text-align: right;\">\n",
              "      <th></th>\n",
              "      <th>Lab 후가공 후 검사_L*</th>\n",
              "      <th>Lab 후가공 후 검사_a*</th>\n",
              "      <th>Lab 후가공 후 검사_b*</th>\n",
              "      <th>Dianix Yellow AM-2R</th>\n",
              "      <th>Dianix Red AM-SLR</th>\n",
              "      <th>Dianix Blue AM-2G</th>\n",
              "      <th>Dorosperse Yellow KKL</th>\n",
              "      <th>Synolon Yellow AK</th>\n",
              "      <th>Dorosperse Red KKL</th>\n",
              "      <th>Synolon Red AK</th>\n",
              "      <th>Synolon Blue AK</th>\n",
              "      <th>Dorosperse Blue KKL</th>\n",
              "      <th>Dorosperse Yellow KKL_prop</th>\n",
              "      <th>Dorosperse Red KKL_prop</th>\n",
              "      <th>Dianix Red AM-SLR_prop</th>\n",
              "      <th>Dianix Blue AM-2G_prop</th>\n",
              "      <th>Dianix Yellow AM-2R_prop</th>\n",
              "      <th>Dorosperse Blue KKL_prop</th>\n",
              "      <th>Synolon Yellow AK_prop</th>\n",
              "      <th>Synolon Red AK_prop</th>\n",
              "      <th>Synolon Blue AK_prop</th>\n",
              "      <th>Dianix Yellow Brown AM-R</th>\n",
              "      <th>Synofast 28</th>\n",
              "      <th>Dorosperse Dark Grey KKL</th>\n",
              "      <th>Dorosperse B/K KKL</th>\n",
              "      <th>...</th>\n",
              "      <th>Synolon Dark Grey AK</th>\n",
              "      <th>Lab 염색 상승온도 #3 유지시간</th>\n",
              "      <th>Lab 염색 상승속도 #3</th>\n",
              "      <th>Lab 염색 상승온도 #3</th>\n",
              "      <th>배합_Sera Fast P-UVC</th>\n",
              "      <th>배합_UVK-400 H/C</th>\n",
              "      <th>배합_Fadex® TS liq</th>\n",
              "      <th>후처리_Sera Con M-FAS</th>\n",
              "      <th>Lab 염색 상승속도 #2</th>\n",
              "      <th>Lab 염색 하강속도 #1</th>\n",
              "      <th>Synofast 28_prop</th>\n",
              "      <th>Dianix Grey AM-SLR_prop</th>\n",
              "      <th>전처리_CH3COOH</th>\n",
              "      <th>배합_빙초산</th>\n",
              "      <th>Dorosperse Dark Grey KKL_prop</th>\n",
              "      <th>Dorosperse B/K KKL_prop</th>\n",
              "      <th>Dianix Black AM-SLR_prop</th>\n",
              "      <th>Dianix Yellow Brown AM-R_prop</th>\n",
              "      <th>배합_UVK-200</th>\n",
              "      <th>제직_중량_생지</th>\n",
              "      <th>Dorosperse Brown K-3LR_prop</th>\n",
              "      <th>Lab 염색 상승속도 #1</th>\n",
              "      <th>후처리_NaOH</th>\n",
              "      <th>Synolon Black AK-NB_prop</th>\n",
              "      <th>Synolon Dark Grey AK_prop</th>\n",
              "    </tr>\n",
              "  </thead>\n",
              "  <tbody>\n",
              "    <tr>\n",
              "      <th>0</th>\n",
              "      <td>50.510</td>\n",
              "      <td>10.5500</td>\n",
              "      <td>9.480</td>\n",
              "      <td>0.0</td>\n",
              "      <td>0.0</td>\n",
              "      <td>0.0</td>\n",
              "      <td>0.0</td>\n",
              "      <td>0.0</td>\n",
              "      <td>0.0</td>\n",
              "      <td>0.0</td>\n",
              "      <td>0.0</td>\n",
              "      <td>0.0</td>\n",
              "      <td>0.000000</td>\n",
              "      <td>0.000000</td>\n",
              "      <td>0.0</td>\n",
              "      <td>0.0</td>\n",
              "      <td>0.0</td>\n",
              "      <td>0.0</td>\n",
              "      <td>0.0</td>\n",
              "      <td>0.0</td>\n",
              "      <td>0.0</td>\n",
              "      <td>0.0</td>\n",
              "      <td>0.5</td>\n",
              "      <td>0.0</td>\n",
              "      <td>0.0</td>\n",
              "      <td>...</td>\n",
              "      <td>0.0</td>\n",
              "      <td>60.0</td>\n",
              "      <td>1.500000</td>\n",
              "      <td>136.0</td>\n",
              "      <td>0.0</td>\n",
              "      <td>0.0</td>\n",
              "      <td>0.0</td>\n",
              "      <td>2.0</td>\n",
              "      <td>0.75</td>\n",
              "      <td>2.00000</td>\n",
              "      <td>1.0</td>\n",
              "      <td>0.0</td>\n",
              "      <td>0.5</td>\n",
              "      <td>0.5</td>\n",
              "      <td>0.0</td>\n",
              "      <td>0.0</td>\n",
              "      <td>0.0</td>\n",
              "      <td>0.0</td>\n",
              "      <td>0.0</td>\n",
              "      <td>237.0</td>\n",
              "      <td>0.0</td>\n",
              "      <td>1.5</td>\n",
              "      <td>2.0</td>\n",
              "      <td>0.0</td>\n",
              "      <td>0.0</td>\n",
              "    </tr>\n",
              "    <tr>\n",
              "      <th>1</th>\n",
              "      <td>51.460</td>\n",
              "      <td>10.0100</td>\n",
              "      <td>9.790</td>\n",
              "      <td>0.0</td>\n",
              "      <td>0.0</td>\n",
              "      <td>0.0</td>\n",
              "      <td>0.0</td>\n",
              "      <td>0.0</td>\n",
              "      <td>0.0</td>\n",
              "      <td>0.0</td>\n",
              "      <td>0.0</td>\n",
              "      <td>0.0</td>\n",
              "      <td>0.000000</td>\n",
              "      <td>0.000000</td>\n",
              "      <td>0.0</td>\n",
              "      <td>0.0</td>\n",
              "      <td>0.0</td>\n",
              "      <td>0.0</td>\n",
              "      <td>0.0</td>\n",
              "      <td>0.0</td>\n",
              "      <td>0.0</td>\n",
              "      <td>0.0</td>\n",
              "      <td>0.5</td>\n",
              "      <td>0.0</td>\n",
              "      <td>0.0</td>\n",
              "      <td>...</td>\n",
              "      <td>0.0</td>\n",
              "      <td>60.0</td>\n",
              "      <td>1.500000</td>\n",
              "      <td>136.0</td>\n",
              "      <td>4.0</td>\n",
              "      <td>0.0</td>\n",
              "      <td>4.0</td>\n",
              "      <td>2.0</td>\n",
              "      <td>0.75</td>\n",
              "      <td>2.00000</td>\n",
              "      <td>1.0</td>\n",
              "      <td>0.0</td>\n",
              "      <td>0.5</td>\n",
              "      <td>0.5</td>\n",
              "      <td>0.0</td>\n",
              "      <td>0.0</td>\n",
              "      <td>0.0</td>\n",
              "      <td>0.0</td>\n",
              "      <td>0.0</td>\n",
              "      <td>237.0</td>\n",
              "      <td>0.0</td>\n",
              "      <td>1.5</td>\n",
              "      <td>2.0</td>\n",
              "      <td>0.0</td>\n",
              "      <td>0.0</td>\n",
              "    </tr>\n",
              "    <tr>\n",
              "      <th>2</th>\n",
              "      <td>51.870</td>\n",
              "      <td>10.2400</td>\n",
              "      <td>9.480</td>\n",
              "      <td>0.0</td>\n",
              "      <td>0.0</td>\n",
              "      <td>0.0</td>\n",
              "      <td>0.0</td>\n",
              "      <td>0.0</td>\n",
              "      <td>0.0</td>\n",
              "      <td>0.0</td>\n",
              "      <td>0.0</td>\n",
              "      <td>0.0</td>\n",
              "      <td>0.000000</td>\n",
              "      <td>0.000000</td>\n",
              "      <td>0.0</td>\n",
              "      <td>0.0</td>\n",
              "      <td>0.0</td>\n",
              "      <td>0.0</td>\n",
              "      <td>0.0</td>\n",
              "      <td>0.0</td>\n",
              "      <td>0.0</td>\n",
              "      <td>0.0</td>\n",
              "      <td>0.5</td>\n",
              "      <td>0.0</td>\n",
              "      <td>0.0</td>\n",
              "      <td>...</td>\n",
              "      <td>0.0</td>\n",
              "      <td>60.0</td>\n",
              "      <td>1.500000</td>\n",
              "      <td>136.0</td>\n",
              "      <td>0.0</td>\n",
              "      <td>4.0</td>\n",
              "      <td>0.0</td>\n",
              "      <td>2.0</td>\n",
              "      <td>0.75</td>\n",
              "      <td>2.00000</td>\n",
              "      <td>1.0</td>\n",
              "      <td>0.0</td>\n",
              "      <td>0.5</td>\n",
              "      <td>0.5</td>\n",
              "      <td>0.0</td>\n",
              "      <td>0.0</td>\n",
              "      <td>0.0</td>\n",
              "      <td>0.0</td>\n",
              "      <td>4.0</td>\n",
              "      <td>237.0</td>\n",
              "      <td>0.0</td>\n",
              "      <td>1.5</td>\n",
              "      <td>2.0</td>\n",
              "      <td>0.0</td>\n",
              "      <td>0.0</td>\n",
              "    </tr>\n",
              "    <tr>\n",
              "      <th>3</th>\n",
              "      <td>48.930</td>\n",
              "      <td>10.9200</td>\n",
              "      <td>9.570</td>\n",
              "      <td>0.0</td>\n",
              "      <td>0.0</td>\n",
              "      <td>0.0</td>\n",
              "      <td>0.0</td>\n",
              "      <td>0.0</td>\n",
              "      <td>0.0</td>\n",
              "      <td>0.0</td>\n",
              "      <td>0.0</td>\n",
              "      <td>0.0</td>\n",
              "      <td>0.000000</td>\n",
              "      <td>0.000000</td>\n",
              "      <td>0.0</td>\n",
              "      <td>0.0</td>\n",
              "      <td>0.0</td>\n",
              "      <td>0.0</td>\n",
              "      <td>0.0</td>\n",
              "      <td>0.0</td>\n",
              "      <td>0.0</td>\n",
              "      <td>0.0</td>\n",
              "      <td>1.0</td>\n",
              "      <td>0.0</td>\n",
              "      <td>0.0</td>\n",
              "      <td>...</td>\n",
              "      <td>0.0</td>\n",
              "      <td>60.0</td>\n",
              "      <td>1.500000</td>\n",
              "      <td>136.0</td>\n",
              "      <td>0.0</td>\n",
              "      <td>0.0</td>\n",
              "      <td>0.0</td>\n",
              "      <td>2.0</td>\n",
              "      <td>0.75</td>\n",
              "      <td>2.00000</td>\n",
              "      <td>1.0</td>\n",
              "      <td>0.0</td>\n",
              "      <td>0.5</td>\n",
              "      <td>0.5</td>\n",
              "      <td>0.0</td>\n",
              "      <td>0.0</td>\n",
              "      <td>0.0</td>\n",
              "      <td>0.0</td>\n",
              "      <td>0.0</td>\n",
              "      <td>237.0</td>\n",
              "      <td>0.0</td>\n",
              "      <td>1.5</td>\n",
              "      <td>2.0</td>\n",
              "      <td>0.0</td>\n",
              "      <td>0.0</td>\n",
              "    </tr>\n",
              "    <tr>\n",
              "      <th>4</th>\n",
              "      <td>49.580</td>\n",
              "      <td>10.5200</td>\n",
              "      <td>9.790</td>\n",
              "      <td>0.0</td>\n",
              "      <td>0.0</td>\n",
              "      <td>0.0</td>\n",
              "      <td>0.0</td>\n",
              "      <td>0.0</td>\n",
              "      <td>0.0</td>\n",
              "      <td>0.0</td>\n",
              "      <td>0.0</td>\n",
              "      <td>0.0</td>\n",
              "      <td>0.000000</td>\n",
              "      <td>0.000000</td>\n",
              "      <td>0.0</td>\n",
              "      <td>0.0</td>\n",
              "      <td>0.0</td>\n",
              "      <td>0.0</td>\n",
              "      <td>0.0</td>\n",
              "      <td>0.0</td>\n",
              "      <td>0.0</td>\n",
              "      <td>0.0</td>\n",
              "      <td>1.0</td>\n",
              "      <td>0.0</td>\n",
              "      <td>0.0</td>\n",
              "      <td>...</td>\n",
              "      <td>0.0</td>\n",
              "      <td>60.0</td>\n",
              "      <td>1.500000</td>\n",
              "      <td>136.0</td>\n",
              "      <td>4.0</td>\n",
              "      <td>0.0</td>\n",
              "      <td>4.0</td>\n",
              "      <td>2.0</td>\n",
              "      <td>0.75</td>\n",
              "      <td>2.00000</td>\n",
              "      <td>1.0</td>\n",
              "      <td>0.0</td>\n",
              "      <td>0.5</td>\n",
              "      <td>0.5</td>\n",
              "      <td>0.0</td>\n",
              "      <td>0.0</td>\n",
              "      <td>0.0</td>\n",
              "      <td>0.0</td>\n",
              "      <td>0.0</td>\n",
              "      <td>237.0</td>\n",
              "      <td>0.0</td>\n",
              "      <td>1.5</td>\n",
              "      <td>2.0</td>\n",
              "      <td>0.0</td>\n",
              "      <td>0.0</td>\n",
              "    </tr>\n",
              "    <tr>\n",
              "      <th>...</th>\n",
              "      <td>...</td>\n",
              "      <td>...</td>\n",
              "      <td>...</td>\n",
              "      <td>...</td>\n",
              "      <td>...</td>\n",
              "      <td>...</td>\n",
              "      <td>...</td>\n",
              "      <td>...</td>\n",
              "      <td>...</td>\n",
              "      <td>...</td>\n",
              "      <td>...</td>\n",
              "      <td>...</td>\n",
              "      <td>...</td>\n",
              "      <td>...</td>\n",
              "      <td>...</td>\n",
              "      <td>...</td>\n",
              "      <td>...</td>\n",
              "      <td>...</td>\n",
              "      <td>...</td>\n",
              "      <td>...</td>\n",
              "      <td>...</td>\n",
              "      <td>...</td>\n",
              "      <td>...</td>\n",
              "      <td>...</td>\n",
              "      <td>...</td>\n",
              "      <td>...</td>\n",
              "      <td>...</td>\n",
              "      <td>...</td>\n",
              "      <td>...</td>\n",
              "      <td>...</td>\n",
              "      <td>...</td>\n",
              "      <td>...</td>\n",
              "      <td>...</td>\n",
              "      <td>...</td>\n",
              "      <td>...</td>\n",
              "      <td>...</td>\n",
              "      <td>...</td>\n",
              "      <td>...</td>\n",
              "      <td>...</td>\n",
              "      <td>...</td>\n",
              "      <td>...</td>\n",
              "      <td>...</td>\n",
              "      <td>...</td>\n",
              "      <td>...</td>\n",
              "      <td>...</td>\n",
              "      <td>...</td>\n",
              "      <td>...</td>\n",
              "      <td>...</td>\n",
              "      <td>...</td>\n",
              "      <td>...</td>\n",
              "      <td>...</td>\n",
              "    </tr>\n",
              "    <tr>\n",
              "      <th>1679</th>\n",
              "      <td>48.260</td>\n",
              "      <td>57.3950</td>\n",
              "      <td>50.385</td>\n",
              "      <td>0.0</td>\n",
              "      <td>0.0</td>\n",
              "      <td>0.0</td>\n",
              "      <td>4.0</td>\n",
              "      <td>0.0</td>\n",
              "      <td>2.0</td>\n",
              "      <td>0.0</td>\n",
              "      <td>0.0</td>\n",
              "      <td>0.0</td>\n",
              "      <td>0.666667</td>\n",
              "      <td>0.333333</td>\n",
              "      <td>0.0</td>\n",
              "      <td>0.0</td>\n",
              "      <td>0.0</td>\n",
              "      <td>0.0</td>\n",
              "      <td>0.0</td>\n",
              "      <td>0.0</td>\n",
              "      <td>0.0</td>\n",
              "      <td>0.0</td>\n",
              "      <td>0.0</td>\n",
              "      <td>0.0</td>\n",
              "      <td>0.0</td>\n",
              "      <td>...</td>\n",
              "      <td>0.0</td>\n",
              "      <td>70.0</td>\n",
              "      <td>1.458333</td>\n",
              "      <td>135.0</td>\n",
              "      <td>0.0</td>\n",
              "      <td>0.0</td>\n",
              "      <td>0.0</td>\n",
              "      <td>4.0</td>\n",
              "      <td>0.75</td>\n",
              "      <td>1.97222</td>\n",
              "      <td>0.0</td>\n",
              "      <td>0.0</td>\n",
              "      <td>1.0</td>\n",
              "      <td>0.2</td>\n",
              "      <td>0.0</td>\n",
              "      <td>0.0</td>\n",
              "      <td>0.0</td>\n",
              "      <td>0.0</td>\n",
              "      <td>0.0</td>\n",
              "      <td>242.0</td>\n",
              "      <td>0.0</td>\n",
              "      <td>1.5</td>\n",
              "      <td>2.0</td>\n",
              "      <td>0.0</td>\n",
              "      <td>0.0</td>\n",
              "    </tr>\n",
              "    <tr>\n",
              "      <th>1680</th>\n",
              "      <td>48.250</td>\n",
              "      <td>57.0850</td>\n",
              "      <td>50.180</td>\n",
              "      <td>0.0</td>\n",
              "      <td>0.0</td>\n",
              "      <td>0.0</td>\n",
              "      <td>4.0</td>\n",
              "      <td>0.0</td>\n",
              "      <td>2.0</td>\n",
              "      <td>0.0</td>\n",
              "      <td>0.0</td>\n",
              "      <td>0.0</td>\n",
              "      <td>0.666667</td>\n",
              "      <td>0.333333</td>\n",
              "      <td>0.0</td>\n",
              "      <td>0.0</td>\n",
              "      <td>0.0</td>\n",
              "      <td>0.0</td>\n",
              "      <td>0.0</td>\n",
              "      <td>0.0</td>\n",
              "      <td>0.0</td>\n",
              "      <td>0.0</td>\n",
              "      <td>0.0</td>\n",
              "      <td>0.0</td>\n",
              "      <td>0.0</td>\n",
              "      <td>...</td>\n",
              "      <td>0.0</td>\n",
              "      <td>80.0</td>\n",
              "      <td>1.458333</td>\n",
              "      <td>135.0</td>\n",
              "      <td>0.0</td>\n",
              "      <td>0.0</td>\n",
              "      <td>0.0</td>\n",
              "      <td>4.0</td>\n",
              "      <td>0.75</td>\n",
              "      <td>1.97222</td>\n",
              "      <td>0.0</td>\n",
              "      <td>0.0</td>\n",
              "      <td>1.0</td>\n",
              "      <td>0.2</td>\n",
              "      <td>0.0</td>\n",
              "      <td>0.0</td>\n",
              "      <td>0.0</td>\n",
              "      <td>0.0</td>\n",
              "      <td>0.0</td>\n",
              "      <td>242.0</td>\n",
              "      <td>0.0</td>\n",
              "      <td>1.5</td>\n",
              "      <td>2.0</td>\n",
              "      <td>0.0</td>\n",
              "      <td>0.0</td>\n",
              "    </tr>\n",
              "    <tr>\n",
              "      <th>1681</th>\n",
              "      <td>69.100</td>\n",
              "      <td>30.2775</td>\n",
              "      <td>84.880</td>\n",
              "      <td>0.0</td>\n",
              "      <td>0.0</td>\n",
              "      <td>0.0</td>\n",
              "      <td>6.0</td>\n",
              "      <td>0.0</td>\n",
              "      <td>0.0</td>\n",
              "      <td>0.0</td>\n",
              "      <td>0.0</td>\n",
              "      <td>0.0</td>\n",
              "      <td>1.000000</td>\n",
              "      <td>0.000000</td>\n",
              "      <td>0.0</td>\n",
              "      <td>0.0</td>\n",
              "      <td>0.0</td>\n",
              "      <td>0.0</td>\n",
              "      <td>0.0</td>\n",
              "      <td>0.0</td>\n",
              "      <td>0.0</td>\n",
              "      <td>0.0</td>\n",
              "      <td>0.0</td>\n",
              "      <td>0.0</td>\n",
              "      <td>0.0</td>\n",
              "      <td>...</td>\n",
              "      <td>0.0</td>\n",
              "      <td>60.0</td>\n",
              "      <td>1.458333</td>\n",
              "      <td>135.0</td>\n",
              "      <td>0.0</td>\n",
              "      <td>0.0</td>\n",
              "      <td>0.0</td>\n",
              "      <td>4.0</td>\n",
              "      <td>0.75</td>\n",
              "      <td>1.97222</td>\n",
              "      <td>0.0</td>\n",
              "      <td>0.0</td>\n",
              "      <td>1.0</td>\n",
              "      <td>0.2</td>\n",
              "      <td>0.0</td>\n",
              "      <td>0.0</td>\n",
              "      <td>0.0</td>\n",
              "      <td>0.0</td>\n",
              "      <td>0.0</td>\n",
              "      <td>242.0</td>\n",
              "      <td>0.0</td>\n",
              "      <td>1.5</td>\n",
              "      <td>2.0</td>\n",
              "      <td>0.0</td>\n",
              "      <td>0.0</td>\n",
              "    </tr>\n",
              "    <tr>\n",
              "      <th>1682</th>\n",
              "      <td>69.835</td>\n",
              "      <td>29.0850</td>\n",
              "      <td>84.570</td>\n",
              "      <td>0.0</td>\n",
              "      <td>0.0</td>\n",
              "      <td>0.0</td>\n",
              "      <td>6.0</td>\n",
              "      <td>0.0</td>\n",
              "      <td>0.0</td>\n",
              "      <td>0.0</td>\n",
              "      <td>0.0</td>\n",
              "      <td>0.0</td>\n",
              "      <td>1.000000</td>\n",
              "      <td>0.000000</td>\n",
              "      <td>0.0</td>\n",
              "      <td>0.0</td>\n",
              "      <td>0.0</td>\n",
              "      <td>0.0</td>\n",
              "      <td>0.0</td>\n",
              "      <td>0.0</td>\n",
              "      <td>0.0</td>\n",
              "      <td>0.0</td>\n",
              "      <td>0.0</td>\n",
              "      <td>0.0</td>\n",
              "      <td>0.0</td>\n",
              "      <td>...</td>\n",
              "      <td>0.0</td>\n",
              "      <td>60.0</td>\n",
              "      <td>1.458333</td>\n",
              "      <td>135.0</td>\n",
              "      <td>0.0</td>\n",
              "      <td>0.0</td>\n",
              "      <td>2.0</td>\n",
              "      <td>4.0</td>\n",
              "      <td>0.75</td>\n",
              "      <td>1.97222</td>\n",
              "      <td>0.0</td>\n",
              "      <td>0.0</td>\n",
              "      <td>1.0</td>\n",
              "      <td>0.2</td>\n",
              "      <td>0.0</td>\n",
              "      <td>0.0</td>\n",
              "      <td>0.0</td>\n",
              "      <td>0.0</td>\n",
              "      <td>0.0</td>\n",
              "      <td>242.0</td>\n",
              "      <td>0.0</td>\n",
              "      <td>1.5</td>\n",
              "      <td>2.0</td>\n",
              "      <td>0.0</td>\n",
              "      <td>0.0</td>\n",
              "    </tr>\n",
              "    <tr>\n",
              "      <th>1683</th>\n",
              "      <td>68.855</td>\n",
              "      <td>30.6500</td>\n",
              "      <td>84.865</td>\n",
              "      <td>0.0</td>\n",
              "      <td>0.0</td>\n",
              "      <td>0.0</td>\n",
              "      <td>6.0</td>\n",
              "      <td>0.0</td>\n",
              "      <td>0.0</td>\n",
              "      <td>0.0</td>\n",
              "      <td>0.0</td>\n",
              "      <td>0.0</td>\n",
              "      <td>1.000000</td>\n",
              "      <td>0.000000</td>\n",
              "      <td>0.0</td>\n",
              "      <td>0.0</td>\n",
              "      <td>0.0</td>\n",
              "      <td>0.0</td>\n",
              "      <td>0.0</td>\n",
              "      <td>0.0</td>\n",
              "      <td>0.0</td>\n",
              "      <td>0.0</td>\n",
              "      <td>0.0</td>\n",
              "      <td>0.0</td>\n",
              "      <td>0.0</td>\n",
              "      <td>...</td>\n",
              "      <td>0.0</td>\n",
              "      <td>60.0</td>\n",
              "      <td>1.458333</td>\n",
              "      <td>135.0</td>\n",
              "      <td>0.0</td>\n",
              "      <td>0.0</td>\n",
              "      <td>4.0</td>\n",
              "      <td>4.0</td>\n",
              "      <td>0.75</td>\n",
              "      <td>1.97222</td>\n",
              "      <td>0.0</td>\n",
              "      <td>0.0</td>\n",
              "      <td>1.0</td>\n",
              "      <td>0.2</td>\n",
              "      <td>0.0</td>\n",
              "      <td>0.0</td>\n",
              "      <td>0.0</td>\n",
              "      <td>0.0</td>\n",
              "      <td>0.0</td>\n",
              "      <td>242.0</td>\n",
              "      <td>0.0</td>\n",
              "      <td>1.5</td>\n",
              "      <td>2.0</td>\n",
              "      <td>0.0</td>\n",
              "      <td>0.0</td>\n",
              "    </tr>\n",
              "  </tbody>\n",
              "</table>\n",
              "<p>1684 rows × 54 columns</p>\n",
              "</div>\n",
              "      <button class=\"colab-df-convert\" onclick=\"convertToInteractive('df-f5baac70-8a2f-4da9-9ef0-395080826291')\"\n",
              "              title=\"Convert this dataframe to an interactive table.\"\n",
              "              style=\"display:none;\">\n",
              "        \n",
              "  <svg xmlns=\"http://www.w3.org/2000/svg\" height=\"24px\"viewBox=\"0 0 24 24\"\n",
              "       width=\"24px\">\n",
              "    <path d=\"M0 0h24v24H0V0z\" fill=\"none\"/>\n",
              "    <path d=\"M18.56 5.44l.94 2.06.94-2.06 2.06-.94-2.06-.94-.94-2.06-.94 2.06-2.06.94zm-11 1L8.5 8.5l.94-2.06 2.06-.94-2.06-.94L8.5 2.5l-.94 2.06-2.06.94zm10 10l.94 2.06.94-2.06 2.06-.94-2.06-.94-.94-2.06-.94 2.06-2.06.94z\"/><path d=\"M17.41 7.96l-1.37-1.37c-.4-.4-.92-.59-1.43-.59-.52 0-1.04.2-1.43.59L10.3 9.45l-7.72 7.72c-.78.78-.78 2.05 0 2.83L4 21.41c.39.39.9.59 1.41.59.51 0 1.02-.2 1.41-.59l7.78-7.78 2.81-2.81c.8-.78.8-2.07 0-2.86zM5.41 20L4 18.59l7.72-7.72 1.47 1.35L5.41 20z\"/>\n",
              "  </svg>\n",
              "      </button>\n",
              "      \n",
              "  <style>\n",
              "    .colab-df-container {\n",
              "      display:flex;\n",
              "      flex-wrap:wrap;\n",
              "      gap: 12px;\n",
              "    }\n",
              "\n",
              "    .colab-df-convert {\n",
              "      background-color: #E8F0FE;\n",
              "      border: none;\n",
              "      border-radius: 50%;\n",
              "      cursor: pointer;\n",
              "      display: none;\n",
              "      fill: #1967D2;\n",
              "      height: 32px;\n",
              "      padding: 0 0 0 0;\n",
              "      width: 32px;\n",
              "    }\n",
              "\n",
              "    .colab-df-convert:hover {\n",
              "      background-color: #E2EBFA;\n",
              "      box-shadow: 0px 1px 2px rgba(60, 64, 67, 0.3), 0px 1px 3px 1px rgba(60, 64, 67, 0.15);\n",
              "      fill: #174EA6;\n",
              "    }\n",
              "\n",
              "    [theme=dark] .colab-df-convert {\n",
              "      background-color: #3B4455;\n",
              "      fill: #D2E3FC;\n",
              "    }\n",
              "\n",
              "    [theme=dark] .colab-df-convert:hover {\n",
              "      background-color: #434B5C;\n",
              "      box-shadow: 0px 1px 3px 1px rgba(0, 0, 0, 0.15);\n",
              "      filter: drop-shadow(0px 1px 2px rgba(0, 0, 0, 0.3));\n",
              "      fill: #FFFFFF;\n",
              "    }\n",
              "  </style>\n",
              "\n",
              "      <script>\n",
              "        const buttonEl =\n",
              "          document.querySelector('#df-f5baac70-8a2f-4da9-9ef0-395080826291 button.colab-df-convert');\n",
              "        buttonEl.style.display =\n",
              "          google.colab.kernel.accessAllowed ? 'block' : 'none';\n",
              "\n",
              "        async function convertToInteractive(key) {\n",
              "          const element = document.querySelector('#df-f5baac70-8a2f-4da9-9ef0-395080826291');\n",
              "          const dataTable =\n",
              "            await google.colab.kernel.invokeFunction('convertToInteractive',\n",
              "                                                     [key], {});\n",
              "          if (!dataTable) return;\n",
              "\n",
              "          const docLinkHtml = 'Like what you see? Visit the ' +\n",
              "            '<a target=\"_blank\" href=https://colab.research.google.com/notebooks/data_table.ipynb>data table notebook</a>'\n",
              "            + ' to learn more about interactive tables.';\n",
              "          element.innerHTML = '';\n",
              "          dataTable['output_type'] = 'display_data';\n",
              "          await google.colab.output.renderOutput(dataTable, element);\n",
              "          const docLink = document.createElement('div');\n",
              "          docLink.innerHTML = docLinkHtml;\n",
              "          element.appendChild(docLink);\n",
              "        }\n",
              "      </script>\n",
              "    </div>\n",
              "  </div>\n",
              "  "
            ]
          },
          "metadata": {},
          "execution_count": 8
        }
      ]
    },
    {
      "cell_type": "markdown",
      "source": [
        "### 컬럼명 변경"
      ],
      "metadata": {
        "id": "G-k-zVUvGVhH"
      }
    },
    {
      "cell_type": "code",
      "source": [
        "kr2en = {'Lab 후가공 후 검사_L*': 'L*', \n",
        "         'Lab 후가공 후 검사_a*': 'a*', \n",
        "         'Lab 후가공 후 검사_b*': 'b*',\n",
        "         '전처리_CH3COOH': 'prep_CH3COOH', \n",
        "         '제직_중량_생지': 'weaving_dough', \n",
        "         '배합_Sera Fast P-UVC': 'comb_Sera Fast', \n",
        "         '배합_UVK-400 H/C': 'comb_UVK400', \n",
        "         '배합_Fadex® TS liq': 'comb_Fadex', \n",
        "         '배합_빙초산': 'comb_acid',\n",
        "         '배합_UVK-200': 'comb_UVK200',\n",
        "         'Lab 염색 상승속도 #1': 'dye_up_rate1', \n",
        "         'Lab 염색 상승속도 #2': 'dye_up_rate2', \n",
        "         'Lab 염색 상승속도 #3': 'dye_up_rate3', \n",
        "         'Lab 염색 상승온도 #3': 'dye_up_temp3', \n",
        "         'Lab 염색 상승온도 #3 유지시간': 'dye_up_temp3_hold', \n",
        "         'Lab 염색 하강속도 #1': 'dye_down_rate1',\n",
        "         '후처리_Sera Con M-FAS': 'after_Sera', \n",
        "         '후처리_NaOH': 'after_NaOH'\n",
        "}\n",
        "\n",
        "for col in df.columns:\n",
        "    if col not in kr2en.keys(): continue\n",
        "    df.rename(columns={col: kr2en[col]}, inplace=True)\n",
        "# df.columns"
      ],
      "metadata": {
        "id": "O64RBr9BGRA8"
      },
      "execution_count": 9,
      "outputs": []
    },
    {
      "cell_type": "markdown",
      "source": [
        "### Binary Features"
      ],
      "metadata": {
        "id": "vHNg04BE7ZDc"
      }
    },
    {
      "cell_type": "code",
      "source": [
        "nuniq = df.nunique()\n",
        "nuniq"
      ],
      "metadata": {
        "colab": {
          "base_uri": "https://localhost:8080/"
        },
        "id": "9-ywODII6Uvc",
        "outputId": "26e3601e-763e-46bc-83f7-08312dd2f448"
      },
      "execution_count": 10,
      "outputs": [
        {
          "output_type": "execute_result",
          "data": {
            "text/plain": [
              "L*                               1544\n",
              "a*                               1413\n",
              "b*                               1458\n",
              "Dianix Yellow AM-2R                21\n",
              "Dianix Red AM-SLR                  21\n",
              "Dianix Blue AM-2G                  21\n",
              "Dorosperse Yellow KKL              21\n",
              "Synolon Yellow AK                  21\n",
              "Dorosperse Red KKL                 21\n",
              "Synolon Red AK                     21\n",
              "Synolon Blue AK                    21\n",
              "Dorosperse Blue KKL                21\n",
              "Dorosperse Yellow KKL_prop         18\n",
              "Dorosperse Red KKL_prop            18\n",
              "Dianix Red AM-SLR_prop             18\n",
              "Dianix Blue AM-2G_prop             18\n",
              "Dianix Yellow AM-2R_prop           18\n",
              "Dorosperse Blue KKL_prop           18\n",
              "Synolon Yellow AK_prop             18\n",
              "Synolon Red AK_prop                18\n",
              "Synolon Blue AK_prop               18\n",
              "Dianix Yellow Brown AM-R           12\n",
              "Synofast 28                        12\n",
              "Dorosperse Dark Grey KKL           12\n",
              "Dorosperse B/K KKL                 12\n",
              "Dianix Black AM-SLR                12\n",
              "Dorosperse Brown K-3LR             12\n",
              "Dianix Grey AM-SLR                 12\n",
              "Synolon Black AK-NB                12\n",
              "Synolon Dark Grey AK               12\n",
              "dye_up_temp3_hold                   8\n",
              "dye_up_rate3                        6\n",
              "dye_up_temp3                        5\n",
              "comb_Sera Fast                      3\n",
              "comb_UVK400                         3\n",
              "comb_Fadex                          3\n",
              "after_Sera                          3\n",
              "dye_up_rate2                        3\n",
              "dye_down_rate1                      2\n",
              "Synofast 28_prop                    2\n",
              "Dianix Grey AM-SLR_prop             2\n",
              "prep_CH3COOH                        2\n",
              "comb_acid                           2\n",
              "Dorosperse Dark Grey KKL_prop       2\n",
              "Dorosperse B/K KKL_prop             2\n",
              "Dianix Black AM-SLR_prop            2\n",
              "Dianix Yellow Brown AM-R_prop       2\n",
              "comb_UVK200                         2\n",
              "weaving_dough                       2\n",
              "Dorosperse Brown K-3LR_prop         2\n",
              "dye_up_rate1                        2\n",
              "after_NaOH                          2\n",
              "Synolon Black AK-NB_prop            2\n",
              "Synolon Dark Grey AK_prop           2\n",
              "dtype: int64"
            ]
          },
          "metadata": {},
          "execution_count": 10
        }
      ]
    },
    {
      "cell_type": "code",
      "source": [
        "bicols = nuniq[nuniq == 2].index.values\n",
        "over2 = nuniq[nuniq > 2].index.values\n",
        "print(f\"Number of Binary Features: {len(bicols)}\")"
      ],
      "metadata": {
        "colab": {
          "base_uri": "https://localhost:8080/"
        },
        "id": "_Iex69gT68PY",
        "outputId": "f34d085f-1265-49e9-84fe-24cee0176d69"
      },
      "execution_count": 11,
      "outputs": [
        {
          "output_type": "stream",
          "name": "stdout",
          "text": [
            "Number of Binary Features: 16\n"
          ]
        }
      ]
    },
    {
      "cell_type": "markdown",
      "source": [
        "# 염색 하강속도1"
      ],
      "metadata": {
        "id": "FDpPuEC48kP6"
      }
    },
    {
      "cell_type": "code",
      "source": [
        "target = bicols[0]\n",
        "df[target].value_counts()"
      ],
      "metadata": {
        "colab": {
          "base_uri": "https://localhost:8080/"
        },
        "id": "zTc57i818q0s",
        "outputId": "9e80a1ae-3412-4691-815c-d6652b350983"
      },
      "execution_count": 12,
      "outputs": [
        {
          "output_type": "execute_result",
          "data": {
            "text/plain": [
              "1.97222    1522\n",
              "2.00000     162\n",
              "Name: dye_down_rate1, dtype: int64"
            ]
          },
          "metadata": {},
          "execution_count": 12
        }
      ]
    },
    {
      "cell_type": "code",
      "source": [
        "df1, df2 = [ df.loc[df[target] == v, over2] for v in sorted(df[target].unique()) ]\n",
        "df1.shape, df2.shape"
      ],
      "metadata": {
        "colab": {
          "base_uri": "https://localhost:8080/"
        },
        "id": "fqu_pHSj8-YL",
        "outputId": "3e24cef0-f96c-4997-afa7-23fc6b78f5bc"
      },
      "execution_count": 34,
      "outputs": [
        {
          "output_type": "execute_result",
          "data": {
            "text/plain": [
              "((1522, 38), (162, 38))"
            ]
          },
          "metadata": {},
          "execution_count": 34
        }
      ]
    },
    {
      "cell_type": "markdown",
      "source": [
        "## I. 염색 하강속도1 = 1.97222"
      ],
      "metadata": {
        "id": "15gn_S7ZC_FC"
      }
    },
    {
      "cell_type": "code",
      "source": [
        "X1, y1 = df1.iloc[:,3:], df1.iloc[:,:3]\n",
        "print(f'=== {target} = {sorted(df[target].unique())[0]} ===')\n",
        "print('Total:', X1.shape, y1.shape)\n",
        "\n",
        "X_train, X_test, y_train, y_test = train_test_split(X1, y1, test_size=0.2, random_state=SEED)\n",
        "print('Train:', X_train.shape, y_train.shape)\n",
        "print('Test :', X_test.shape, y_test.shape)"
      ],
      "metadata": {
        "colab": {
          "base_uri": "https://localhost:8080/"
        },
        "id": "qpwEItFSGf92",
        "outputId": "02d95001-4026-4de0-d652-bf188836812e"
      },
      "execution_count": 89,
      "outputs": [
        {
          "output_type": "stream",
          "name": "stdout",
          "text": [
            "=== dye_down_rate1 = 1.97222 ===\n",
            "Total: (1522, 35) (1522, 3)\n",
            "Train: (1217, 35) (1217, 3)\n",
            "Test : (305, 35) (305, 3)\n"
          ]
        }
      ]
    },
    {
      "cell_type": "code",
      "source": [
        "# Case 1. 평균, 표준편차 분포\n",
        "print(f\"L* : mean = {df1['L*'].mean():.4f}, std = {df1['L*'].std():.4f}\")\n",
        "print(f\"a* : mean = {df1['a*'].mean():.4f}, std = {df1['a*'].std():.4f}\")\n",
        "print(f\"b* : mean = {df1['b*'].mean():.4f}, std = {df1['b*'].std():.4f}\")"
      ],
      "metadata": {
        "colab": {
          "base_uri": "https://localhost:8080/"
        },
        "id": "iWuZlCoJRuiq",
        "outputId": "300c98e4-990d-4e7b-85b2-1f5dc4dbdd50"
      },
      "execution_count": 38,
      "outputs": [
        {
          "output_type": "stream",
          "name": "stdout",
          "text": [
            "L* : mean = 52.8434, std = 21.2576\n",
            "a* : mean = 13.2437, std = 22.5964\n",
            "b* : mean = 11.6233, std = 28.9184\n"
          ]
        }
      ]
    },
    {
      "cell_type": "markdown",
      "source": [
        "### 1) Random Forest"
      ],
      "metadata": {
        "id": "PWYcpaMqv9VL"
      }
    },
    {
      "cell_type": "code",
      "source": [
        "model_rf = RandomForestRegressor(n_estimators=N_ESTIMATORS, \n",
        "                              max_depth=MAX_DEPTH,\n",
        "                              criterion=CRITERION,\n",
        "                              max_samples=MAX_SAMPLES,\n",
        "                              warm_start=False,\n",
        "                              random_state=SEED)"
      ],
      "metadata": {
        "id": "KDj0SKcswA8A"
      },
      "execution_count": 14,
      "outputs": []
    },
    {
      "cell_type": "code",
      "source": [
        "model_rf.fit(X_train, y_train)"
      ],
      "metadata": {
        "colab": {
          "base_uri": "https://localhost:8080/"
        },
        "id": "oiBGUHMiwBwc",
        "outputId": "05436af5-b15f-48ec-8a33-fdf336b36e21"
      },
      "execution_count": 91,
      "outputs": [
        {
          "output_type": "execute_result",
          "data": {
            "text/plain": [
              "RandomForestRegressor(max_depth=20, max_samples=1.0, random_state=42)"
            ]
          },
          "metadata": {},
          "execution_count": 91
        }
      ]
    },
    {
      "cell_type": "code",
      "source": [
        "y_train_pred_rf = model_rf.predict(X_train)\n",
        "df_train_pred_rf = pd.DataFrame(y_train_pred_rf, columns=['L_train_pred', 'a_train_pred', 'b_train_pred'])\n",
        "\n",
        "y_pred_rf = model_rf.predict(X_test)\n",
        "df_pred_rf = pd.DataFrame(y_pred_rf, columns=['L_pred', 'a_pred', 'b_pred'])"
      ],
      "metadata": {
        "id": "R5WjkWibwB1p"
      },
      "execution_count": 92,
      "outputs": []
    },
    {
      "cell_type": "markdown",
      "source": [
        "### 2) XGBoost"
      ],
      "metadata": {
        "id": "miGyjywbtAJ8"
      }
    },
    {
      "cell_type": "code",
      "source": [
        "model_xgb = MultiOutputRegressor(xgb.XGBRegressor(\n",
        "    booster=BOOSTER, # 'dart': Adds dropout to the standard gradient boosting algorithm\n",
        "    learning_rate=LR,\n",
        "    max_depth=MAX_DEPTH,\n",
        "    n_estimators=N_ESTIMATORS,\n",
        "    objective=OBJECTIVE,\n",
        "    silent=SILENT,\n",
        "    subsample=SUBSAMPLE,\n",
        "))"
      ],
      "metadata": {
        "id": "fGNwSatsGjjK"
      },
      "execution_count": 24,
      "outputs": []
    },
    {
      "cell_type": "code",
      "source": [
        "model_xgb.fit(X_train, y_train)"
      ],
      "metadata": {
        "colab": {
          "base_uri": "https://localhost:8080/"
        },
        "id": "dGwUogHgJhcj",
        "outputId": "84b9e977-b837-4064-8778-c2b0735132a7"
      },
      "execution_count": 94,
      "outputs": [
        {
          "output_type": "execute_result",
          "data": {
            "text/plain": [
              "MultiOutputRegressor(estimator=XGBRegressor(max_depth=20,\n",
              "                                            objective='reg:squarederror',\n",
              "                                            silent=False, subsample=1.0))"
            ]
          },
          "metadata": {},
          "execution_count": 94
        }
      ]
    },
    {
      "cell_type": "code",
      "source": [
        "y_pred = model_xgb.predict(X_test)\n",
        "df_pred = pd.DataFrame(y_pred, columns=['L_pred', 'a_pred', 'b_pred'])\n",
        "\n",
        "y_train_pred = model_xgb.predict(X_train)\n",
        "df_train_pred = pd.DataFrame(y_train_pred, columns=['L_train_pred', 'a_train_pred', 'b_train_pred'])"
      ],
      "metadata": {
        "id": "EeDDZXMl1VT9"
      },
      "execution_count": 95,
      "outputs": []
    },
    {
      "cell_type": "markdown",
      "source": [
        "### Performance Evaluation\n",
        "- Lab 한꺼번에 학습 및 예측한 결과만!!\n",
        "- R-sqaured, MSE\n",
        "- CMC 2:1 색차값"
      ],
      "metadata": {
        "id": "yl6yp_Ouf93X"
      }
    },
    {
      "cell_type": "code",
      "source": [
        "print('===== Random Forest =====')\n",
        "print(f'[Train] R-squared: {round(model_rf.score(X_train, y_train),5)}')\n",
        "print(f'[Test]  R-squared: {round(model_rf.score(X_test, y_test),5)}')\n",
        "\n",
        "print(f'\\n[Train] MSE: {round(mean_squared_error(y_train, y_train_pred_rf), 4)}')\n",
        "print(f'[Test]  MSE: {round(mean_squared_error(y_test, y_pred_rf),4)}') # MSE 차이가 꽤 크다. 오버피팅 개선하기!\n",
        "\n",
        "\n",
        "print('\\n======  XGBoost  ======')\n",
        "print(f'[Train] R-squared: {round(model_xgb.score(X_train, y_train),5)}')\n",
        "print(f'[Test]  R-squared: {round(model_xgb.score(X_test, y_test),5)}')\n",
        "\n",
        "print(f'\\n[Train] MSE: {round(mean_squared_error(y_train, y_train_pred), 4)}')\n",
        "print(f'[Test]  MSE: {round(mean_squared_error(y_test, y_pred),4)}')"
      ],
      "metadata": {
        "colab": {
          "base_uri": "https://localhost:8080/"
        },
        "id": "zOECtT2uwYhl",
        "outputId": "538af9a9-76a5-47c4-af76-b62e4f2a4b87"
      },
      "execution_count": 96,
      "outputs": [
        {
          "output_type": "stream",
          "name": "stdout",
          "text": [
            "===== Random Forest =====\n",
            "[Train] R-squared: 0.97348\n",
            "[Test]  R-squared: 0.9388\n",
            "\n",
            "[Train] MSE: 13.4466\n",
            "[Test]  MSE: 31.0319\n",
            "\n",
            "======  XGBoost  ======\n",
            "[Train] R-squared: 0.99996\n",
            "[Test]  R-squared: 0.97731\n",
            "\n",
            "[Train] MSE: 0.0188\n",
            "[Test]  MSE: 12.213\n"
          ]
        }
      ]
    },
    {
      "cell_type": "markdown",
      "source": [
        "### CMC 색차값, ΔE 계산"
      ],
      "metadata": {
        "id": "rDm6eHBwgSLy"
      }
    },
    {
      "cell_type": "code",
      "source": [
        "def compute_delta_e(y_test, y_pred):\n",
        "    delta_E = []\n",
        "    for i, (L_pred, a_pred, b_pred) in enumerate(y_pred):\n",
        "        L_test, a_test, b_test = y_test.iloc[i].values\n",
        "        target_color = LabColor(L_test, a_test, b_test)\n",
        "        pred_color = LabColor(L_pred, a_pred, b_pred)\n",
        "        delta_E.append(delta_e_cmc(target_color, pred_color, pl=2, pc=1))\n",
        "    return delta_E"
      ],
      "metadata": {
        "id": "ne0Qnl3pnoVX"
      },
      "execution_count": 97,
      "outputs": []
    },
    {
      "cell_type": "code",
      "source": [
        "print('===== Random Forest =====')\n",
        "# Train Dataset\n",
        "df_train_pred_rf['Delta_E'] = compute_delta_e(y_train, y_train_pred_rf)\n",
        "df_train_pred_rf['Below 1'] = (df_train_pred_rf['Delta_E'] < 1)\n",
        "print(f\"[Train] ΔE < 1 : {df_train_pred_rf['Below 1'].sum()} / {len(df_train_pred_rf)} = {df_train_pred_rf['Below 1'].mean():.4f}\")\n",
        "print(f\"[Train] Average of ΔE : {df_train_pred_rf['Delta_E'].mean():.4f}\")\n",
        "\n",
        "# Test Dataset\n",
        "df_pred_rf['Delta_E'] = compute_delta_e(y_test, y_pred_rf)\n",
        "df_pred_rf['Below 1'] = (df_pred_rf['Delta_E'] < 1)\n",
        "print(f\"\\n[Test]  ΔE < 1 : {df_pred_rf['Below 1'].sum()} / {len(df_pred_rf)} = {df_pred_rf['Below 1'].mean():.4f}\")\n",
        "print(f\"[Test]  Average of ΔE : {df_pred_rf['Delta_E'].mean():.4f}\")\n",
        "\n",
        "\n",
        "print('\\n\\n======  XGBoost  ======')\n",
        "# Train Dataset\n",
        "df_train_pred['Delta_E'] = compute_delta_e(y_train, y_train_pred)\n",
        "df_train_pred['Below 1'] = (df_train_pred['Delta_E'] < 1)\n",
        "print(f\"[Train] ΔE < 1 : {df_train_pred['Below 1'].sum()} / {len(df_train_pred)} = {df_train_pred['Below 1'].mean():.4f}\")\n",
        "print(f\"[Train] Average of ΔE : {df_train_pred['Delta_E'].mean():.4f}\")\n",
        "\n",
        "# Test Dataset\n",
        "df_pred['Delta_E'] = compute_delta_e(y_test, y_pred)\n",
        "df_pred['Below 1'] = (df_pred['Delta_E'] < 1)\n",
        "print(f\"\\n[Test]  ΔE < 1 : {df_pred['Below 1'].sum()} / {len(df_pred)} = {df_pred['Below 1'].mean():.4f}\")\n",
        "print(f\"[Test]  Average of ΔE : {df_pred['Delta_E'].mean():.4f}\")"
      ],
      "metadata": {
        "colab": {
          "base_uri": "https://localhost:8080/"
        },
        "id": "76EnbRHX66sh",
        "outputId": "36964315-63bd-4c81-9949-77420a5145ad"
      },
      "execution_count": 105,
      "outputs": [
        {
          "output_type": "stream",
          "name": "stdout",
          "text": [
            "===== Random Forest =====\n",
            "[Train] ΔE < 1 : 122 / 129 = 0.9457\n",
            "[Train] Average of ΔE : 0.4226\n",
            "\n",
            "[Test]  ΔE < 1 : 23 / 33 = 0.6970\n",
            "[Test]  Average of ΔE : 0.9899\n",
            "\n",
            "\n",
            "======  XGBoost  ======\n",
            "[Train] ΔE < 1 : 129 / 129 = 1.0000\n",
            "[Train] Average of ΔE : 0.0198\n",
            "\n",
            "[Test]  ΔE < 1 : 31 / 33 = 0.9394\n",
            "[Test]  Average of ΔE : 0.5599\n"
          ]
        }
      ]
    },
    {
      "cell_type": "code",
      "source": [
        "# Random Forest\n",
        "fig, axes = plt.subplots(1,2, figsize=(10,4))\n",
        "plt.subplots_adjust(wspace=0.3)\n",
        "sns.set_theme(style='darkgrid')\n",
        "fig.suptitle('Random Forest', fontsize=15)\n",
        "\n",
        "sns.scatterplot(ax=axes[0], x=df_train_pred_rf.index, y=df_train_pred_rf['Delta_E'], size=1, legend=False)\n",
        "axes[0].axhline(1.0, 0, 1, color='red', linewidth=1.2)\n",
        "axes[0].set_title('Train', fontsize=12)\n",
        "axes[0].set_xlabel('ID')\n",
        "\n",
        "sns.scatterplot(ax=axes[1], x=df_pred_rf.index, y=df_pred_rf['Delta_E'], size=1, legend=False)\n",
        "axes[1].axhline(1.0, 0, 1, color='red', linewidth=1.2)\n",
        "axes[1].set_title('Test', fontsize=12)\n",
        "axes[1].set_xlabel('ID')\n",
        "plt.show()\n",
        "\n",
        "\n",
        "# XGBoost\n",
        "fig, axes = plt.subplots(1,2, figsize=(10,4))\n",
        "plt.subplots_adjust(wspace=0.3)\n",
        "sns.set_theme(style='darkgrid')\n",
        "fig.suptitle('XGBoost', fontsize=15)\n",
        "\n",
        "sns.scatterplot(ax=axes[0], x=df_train_pred.index, y=df_train_pred['Delta_E'], size=1, legend=False)\n",
        "axes[0].axhline(1.0, 0, 1, color='red', linewidth=1.2)\n",
        "axes[0].set_title('Train', fontsize=12)\n",
        "axes[0].set_xlabel('ID')\n",
        "\n",
        "sns.scatterplot(ax=axes[1], x=df_pred.index, y=df_pred['Delta_E'], size=1, legend=False)\n",
        "axes[1].axhline(1.0, 0, 1, color='red', linewidth=1.2)\n",
        "axes[1].set_title('Test', fontsize=12)\n",
        "axes[1].set_xlabel('ID')\n",
        "plt.show()"
      ],
      "metadata": {
        "colab": {
          "base_uri": "https://localhost:8080/",
          "height": 611
        },
        "id": "3E2yR4LPzC2N",
        "outputId": "8f8559af-c7e7-4df5-dbec-b5f1b3e157fb"
      },
      "execution_count": 99,
      "outputs": [
        {
          "output_type": "display_data",
          "data": {
            "text/plain": [
              "<Figure size 720x288 with 2 Axes>"
            ],
            "image/png": "[encoded data removed]"
          },
          "metadata": {}
        },
        {
          "output_type": "display_data",
          "data": {
            "text/plain": [
              "<Figure size 720x288 with 2 Axes>"
            ],
            "image/png": "[encoded data removed]"
          },
          "metadata": {}
        }
      ]
    },
    {
      "cell_type": "markdown",
      "source": [
        "## II. 염색 하강속도1 = 2.0"
      ],
      "metadata": {
        "id": "0pBfy9evC1PG"
      }
    },
    {
      "cell_type": "code",
      "source": [
        "X2, y2 = df2.iloc[:,3:], df2.iloc[:,:3]\n",
        "print(f'=== {target} = {sorted(df[target].unique())[1]} ===')\n",
        "print('Total:', X2.shape, y2.shape)\n",
        "\n",
        "X_train, X_test, y_train, y_test = train_test_split(X2, y2, test_size=0.2, random_state=SEED)\n",
        "print('Train:', X_train.shape, y_train.shape)\n",
        "print('Test :', X_test.shape, y_test.shape)"
      ],
      "metadata": {
        "colab": {
          "base_uri": "https://localhost:8080/"
        },
        "id": "AyTWJb1lExNA",
        "outputId": "07a1d41a-ddeb-48d3-b7f8-4defead58558"
      },
      "execution_count": 100,
      "outputs": [
        {
          "output_type": "stream",
          "name": "stdout",
          "text": [
            "=== dye_down_rate1 = 2.0 ===\n",
            "Total: (162, 35) (162, 3)\n",
            "Train: (129, 35) (129, 3)\n",
            "Test : (33, 35) (33, 3)\n"
          ]
        }
      ]
    },
    {
      "cell_type": "code",
      "source": [
        "# Case 2. 평균, 표준편차 분포\n",
        "print(f\"L* : mean = {df2['L*'].mean():.4f}, std = {df2['L*'].std():.4f}\")\n",
        "print(f\"a* : mean = {df2['a*'].mean():.4f}, std = {df2['a*'].std():.4f}\")\n",
        "print(f\"b* : mean = {df2['b*'].mean():.4f}, std = {df2['b*'].std():.4f}\")"
      ],
      "metadata": {
        "id": "WcVHpz_BQdVe"
      },
      "execution_count": null,
      "outputs": []
    },
    {
      "cell_type": "markdown",
      "source": [
        "### 1) Random Forest"
      ],
      "metadata": {
        "id": "FDtS5S2vE_VI"
      }
    },
    {
      "cell_type": "code",
      "source": [
        "model_rf.fit(X_train, y_train)\n",
        "\n",
        "y_train_pred_rf = model_rf.predict(X_train)\n",
        "df_train_pred_rf = pd.DataFrame(y_train_pred_rf, columns=['L_train_pred', 'a_train_pred', 'b_train_pred'])\n",
        "\n",
        "y_pred_rf = model_rf.predict(X_test)\n",
        "df_pred_rf = pd.DataFrame(y_pred_rf, columns=['L_pred', 'a_pred', 'b_pred'])"
      ],
      "metadata": {
        "id": "lE7kZULNExt1"
      },
      "execution_count": 101,
      "outputs": []
    },
    {
      "cell_type": "markdown",
      "source": [
        "### 2) XGBoost"
      ],
      "metadata": {
        "id": "ohNH_7AyFDUS"
      }
    },
    {
      "cell_type": "code",
      "source": [
        "model_xgb.fit(X_train, y_train)\n",
        "\n",
        "y_pred = model_xgb.predict(X_test)\n",
        "df_pred = pd.DataFrame(y_pred, columns=['L_pred', 'a_pred', 'b_pred'])\n",
        "\n",
        "y_train_pred = model_xgb.predict(X_train)\n",
        "df_train_pred = pd.DataFrame(y_train_pred, columns=['L_train_pred', 'a_train_pred', 'b_train_pred'])"
      ],
      "metadata": {
        "id": "ZIszseXdExxF"
      },
      "execution_count": 102,
      "outputs": []
    },
    {
      "cell_type": "markdown",
      "source": [
        "### Performance Evaluation"
      ],
      "metadata": {
        "id": "rIEzZ87zFhhY"
      }
    },
    {
      "cell_type": "code",
      "source": [
        "print('===== Random Forest =====')\n",
        "print(f'[Train] R-squared: {round(model_rf.score(X_train, y_train),5)}')\n",
        "print(f'[Test]  R-squared: {round(model_rf.score(X_test, y_test),5)}')\n",
        "\n",
        "print(f'\\n[Train] MSE: {round(mean_squared_error(y_train, y_train_pred_rf), 4)}')\n",
        "print(f'[Test]  MSE: {round(mean_squared_error(y_test, y_pred_rf),4)}') # MSE 차이가 꽤 크다. 오버피팅 개선하기!\n",
        "\n",
        "\n",
        "print('\\n======  XGBoost  ======')\n",
        "print(f'[Train] R-squared: {round(model_xgb.score(X_train, y_train),5)}')\n",
        "print(f'[Test]  R-squared: {round(model_xgb.score(X_test, y_test),5)}')\n",
        "\n",
        "print(f'\\n[Train] MSE: {round(mean_squared_error(y_train, y_train_pred), 4)}')\n",
        "print(f'[Test]  MSE: {round(mean_squared_error(y_test, y_pred),4)}')"
      ],
      "metadata": {
        "colab": {
          "base_uri": "https://localhost:8080/"
        },
        "id": "mCDNM5iWFUbC",
        "outputId": "b316e63d-b195-40e6-b4be-d24def0dfa9d"
      },
      "execution_count": 103,
      "outputs": [
        {
          "output_type": "stream",
          "name": "stdout",
          "text": [
            "===== Random Forest =====\n",
            "[Train] R-squared: 0.99833\n",
            "[Test]  R-squared: 0.98458\n",
            "\n",
            "[Train] MSE: 0.3658\n",
            "[Test]  MSE: 1.8188\n",
            "\n",
            "======  XGBoost  ======\n",
            "[Train] R-squared: 1.0\n",
            "[Test]  R-squared: 0.99706\n",
            "\n",
            "[Train] MSE: 0.0007\n",
            "[Test]  MSE: 0.477\n"
          ]
        }
      ]
    },
    {
      "cell_type": "markdown",
      "source": [
        "### CMC 색차값, ΔE 계산"
      ],
      "metadata": {
        "id": "5NKz2m3KGw5i"
      }
    },
    {
      "cell_type": "code",
      "source": [
        "print('===== Random Forest =====')\n",
        "# Train Dataset\n",
        "df_train_pred_rf['Delta_E'] = compute_delta_e(y_train, y_train_pred_rf)\n",
        "df_train_pred_rf['Below 1'] = (df_train_pred_rf['Delta_E'] < 1)\n",
        "print(f\"[Train] ΔE < 1 : {df_train_pred_rf['Below 1'].sum()} / {len(df_train_pred_rf)} = {df_train_pred_rf['Below 1'].mean():.4f}\")\n",
        "print(f\"[Train] Average of ΔE : {df_train_pred_rf['Delta_E'].mean():.4f}\")\n",
        "\n",
        "# Test Dataset\n",
        "df_pred_rf['Delta_E'] = compute_delta_e(y_test, y_pred_rf)\n",
        "df_pred_rf['Below 1'] = (df_pred_rf['Delta_E'] < 1)\n",
        "print(f\"\\n[Test]  ΔE < 1 : {df_pred_rf['Below 1'].sum()} / {len(df_pred_rf)} = {df_pred_rf['Below 1'].mean():.4f}\")\n",
        "print(f\"[Test]  Average of ΔE : {df_pred_rf['Delta_E'].mean():.4f}\")\n",
        "\n",
        "\n",
        "print('\\n\\n======  XGBoost  ======')\n",
        "# Train Dataset\n",
        "df_train_pred['Delta_E'] = compute_delta_e(y_train, y_train_pred)\n",
        "df_train_pred['Below 1'] = (df_train_pred['Delta_E'] < 1)\n",
        "print(f\"[Train] ΔE < 1 : {df_train_pred['Below 1'].sum()} / {len(df_train_pred)} = {df_train_pred['Below 1'].mean():.4f}\")\n",
        "print(f\"[Train] Average of ΔE : {df_train_pred['Delta_E'].mean():.4f}\")\n",
        "\n",
        "# Test Dataset\n",
        "df_pred['Delta_E'] = compute_delta_e(y_test, y_pred)\n",
        "df_pred['Below 1'] = (df_pred['Delta_E'] < 1)\n",
        "print(f\"\\n[Test]  ΔE < 1 : {df_pred['Below 1'].sum()} / {len(df_pred)} = {df_pred['Below 1'].mean():.4f}\")\n",
        "print(f\"[Test]  Average of ΔE : {df_pred['Delta_E'].mean():.4f}\")"
      ],
      "metadata": {
        "colab": {
          "base_uri": "https://localhost:8080/"
        },
        "id": "vPHUHa3tEx0M",
        "outputId": "e0af9cda-537c-40e3-fc6e-ce97f1cd7136"
      },
      "execution_count": 104,
      "outputs": [
        {
          "output_type": "stream",
          "name": "stdout",
          "text": [
            "===== Random Forest =====\n",
            "[Train] ΔE < 1 : 122 / 129 = 0.9457\n",
            "[Train] Average of ΔE : 0.4226\n",
            "\n",
            "[Test]  ΔE < 1 : 23 / 33 = 0.6970\n",
            "[Test]  Average of ΔE : 0.9899\n",
            "\n",
            "\n",
            "======  XGBoost  ======\n",
            "[Train] ΔE < 1 : 129 / 129 = 1.0000\n",
            "[Train] Average of ΔE : 0.0198\n",
            "\n",
            "[Test]  ΔE < 1 : 31 / 33 = 0.9394\n",
            "[Test]  Average of ΔE : 0.5599\n"
          ]
        }
      ]
    },
    {
      "cell_type": "code",
      "source": [
        "# Random Forest\n",
        "fig, axes = plt.subplots(1,2, figsize=(10,4))\n",
        "plt.subplots_adjust(wspace=0.3)\n",
        "sns.set_theme(style='darkgrid')\n",
        "fig.suptitle('Random Forest', fontsize=15)\n",
        "\n",
        "sns.scatterplot(ax=axes[0], x=df_train_pred_rf.index, y=df_train_pred_rf['Delta_E'], size=1, legend=False)\n",
        "axes[0].axhline(1.0, 0, 1, color='red', linewidth=1.2)\n",
        "axes[0].set_title('Train', fontsize=12)\n",
        "axes[0].set_xlabel('ID')\n",
        "\n",
        "sns.scatterplot(ax=axes[1], x=df_pred_rf.index, y=df_pred_rf['Delta_E'], size=1, legend=False)\n",
        "axes[1].axhline(1.0, 0, 1, color='red', linewidth=1.2)\n",
        "axes[1].set_title('Test', fontsize=12)\n",
        "axes[1].set_xlabel('ID')\n",
        "plt.show()\n",
        "\n",
        "\n",
        "# XGBoost\n",
        "fig, axes = plt.subplots(1,2, figsize=(10,4))\n",
        "plt.subplots_adjust(wspace=0.3)\n",
        "sns.set_theme(style='darkgrid')\n",
        "fig.suptitle('XGBoost', fontsize=15)\n",
        "\n",
        "sns.scatterplot(ax=axes[0], x=df_train_pred.index, y=df_train_pred['Delta_E'], size=1, legend=False)\n",
        "axes[0].axhline(1.0, 0, 1, color='red', linewidth=1.2)\n",
        "axes[0].set_title('Train', fontsize=12)\n",
        "axes[0].set_xlabel('ID')\n",
        "\n",
        "sns.scatterplot(ax=axes[1], x=df_pred.index, y=df_pred['Delta_E'], size=1, legend=False)\n",
        "axes[1].axhline(1.0, 0, 1, color='red', linewidth=1.2)\n",
        "axes[1].set_title('Test', fontsize=12)\n",
        "axes[1].set_xlabel('ID')\n",
        "plt.show()"
      ],
      "metadata": {
        "colab": {
          "base_uri": "https://localhost:8080/",
          "height": 611
        },
        "id": "DXlCmm1REx3P",
        "outputId": "dc1a28f8-13e4-42cc-bee0-00b4b4c7a264"
      },
      "execution_count": 106,
      "outputs": [
        {
          "output_type": "display_data",
          "data": {
            "text/plain": [
              "<Figure size 720x288 with 2 Axes>"
            ],
            "image/png": "[encoded data removed]"
          },
          "metadata": {}
        },
        {
          "output_type": "display_data",
          "data": {
            "text/plain": [
              "<Figure size 720x288 with 2 Axes>"
            ],
            "image/png": "[encoded data removed]"
          },
          "metadata": {}
        }
      ]
    },
    {
      "cell_type": "markdown",
      "source": [
        "# 함수 미완성"
      ],
      "metadata": {
        "id": "UZ7orAhcIx9m"
      }
    },
    {
      "cell_type": "code",
      "source": [
        "def train_predict(df_origin, target, model):\n",
        "    '''\n",
        "    target = L*, a*, b*\n",
        "    model = RandomForestRegressor(), XGBRegressor()\n",
        "    '''\n",
        "    target_values = sorted(df_origin[target].unique()) # 2 elements\n",
        "    df_split, df_train_preds, df_preds = [], [], []\n",
        "\n",
        "    for i, v in enumerate(target_values):\n",
        "        df = df_origin.loc[df_origin[target] == v, over2]\n",
        "        X, y = df.iloc[:,3:], df.iloc[:,:3]\n",
        "        print(f\"\\n=== Case {i+1}) {target} = {v} ===\")\n",
        "        print('Total:', X.shape, y.shape)\n",
        "\n",
        "        # Train, Test split\n",
        "        X_train, X_test, y_train, y_test = train_test_split(X, y, test_size=0.2, random_state=SEED)\n",
        "        print('Train:', X_train.shape, y_train.shape)\n",
        "        print('Test :', X_test.shape, y_test.shape)\n",
        "\n",
        "        # Model Training - Random Forest / XGBoost\n",
        "        # if model\n",
        "        model.fit(X_train, y_train)\n",
        "        y_train_pred = model.predict(X_train)\n",
        "        df_train_pred = pd.DataFrame(y_train_pred, columns=['L_train_pred', 'a_train_pred', 'b_train_pred'])\n",
        "\n",
        "        # Prediction\n",
        "        y_pred = model.predict(X_test)\n",
        "        df_pred = pd.DataFrame(y_pred, columns=['L_pred', 'a_pred', 'b_pred'])\n",
        "\n",
        "        # Evaluation\n",
        "        print(f'\\n[Train] R-squared: {round(model.score(X_train, y_train),5)}')\n",
        "        print(f'[Test]  R-squared: {round(model.score(X_test, y_test),5)}')\n",
        "        print(f'\\n[Train] MSE: {round(mean_squared_error(y_train, y_train_pred), 4)}')\n",
        "        print(f'[Test]  MSE: {round(mean_squared_error(y_test, y_pred),4)}')\n",
        "\n",
        "        df_split.append(df)\n",
        "        df_train_preds.append(df_train_pred)\n",
        "        df_preds.append(df_pred)\n",
        "\n",
        "    return df_split, df_train_preds, df_preds"
      ],
      "metadata": {
        "id": "qGVrPRRsPalU"
      },
      "execution_count": null,
      "outputs": []
    },
    {
      "cell_type": "code",
      "source": [
        "df_split, df_train_preds, df_preds = train_predict(df, target, model_xgb)"
      ],
      "metadata": {
        "id": "U4RlR63cPfqz"
      },
      "execution_count": null,
      "outputs": []
    }
  ]
}