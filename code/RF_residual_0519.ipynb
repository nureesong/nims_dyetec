{
  "nbformat": 4,
  "nbformat_minor": 0,
  "metadata": {
    "colab": {
      "name": "RF_residual_0519.ipynb",
      "private_outputs": true,
      "provenance": [],
      "collapsed_sections": [],
      "toc_visible": true
    },
    "kernelspec": {
      "name": "python3",
      "display_name": "Python 3"
    },
    "language_info": {
      "name": "python"
    }
  },
  "cells": [
    {
      "cell_type": "code",
      "execution_count": null,
      "metadata": {
        "id": "az0UMUjK3nLi"
      },
      "outputs": [],
      "source": [
        "from google.colab import drive\n",
        "drive.mount('/content/drive')"
      ]
    },
    {
      "cell_type": "code",
      "source": [
        "%cd /content/drive/MyDrive/Dyetec"
      ],
      "metadata": {
        "id": "3_7kcZa_3yxJ"
      },
      "execution_count": null,
      "outputs": []
    },
    {
      "cell_type": "code",
      "source": [
        "!pip install colormath"
      ],
      "metadata": {
        "id": "Zo7G9L9gffdB"
      },
      "execution_count": null,
      "outputs": []
    },
    {
      "cell_type": "code",
      "source": [
        "import os\n",
        "import random\n",
        "import pandas as pd\n",
        "import numpy as np\n",
        "pd.options.display.max_rows = 100\n",
        "pd.options.display.max_columns = 50\n",
        "\n",
        "import matplotlib.pyplot as plt\n",
        "import seaborn as sns\n",
        "\n",
        "from colormath.color_objects import LabColor\n",
        "from colormath.color_diff import delta_e_cie1976, delta_e_cie1994, delta_e_cie2000, delta_e_cmc\n",
        "\n",
        "from sklearn.model_selection import train_test_split, KFold\n",
        "# from sklearn.preprocessing import MinMaxScaler, StandardScaler, LabelEncoder\n",
        "from sklearn.ensemble import RandomForestRegressor\n",
        "from lightgbm import LGBMClassifier, early_stopping, plot_importance\n",
        "from sklearn.metrics import mean_squared_error, confusion_matrix, accuracy_score, recall_score, plot_confusion_matrix\n"
      ],
      "metadata": {
        "id": "iQRb-8H5389l"
      },
      "execution_count": null,
      "outputs": []
    },
    {
      "cell_type": "code",
      "source": [
        "# Configs\n",
        "SEED = 42\n",
        "\n",
        "# RandomForest\n",
        "N_ESTIMATORS = 100\n",
        "# N_ESTIMATORS = 200\n",
        "MAX_DEPTH = 20\n",
        "CRITERION = 'squared_error'  # 'absolute_error'\n",
        "MAX_SAMPLES = 1.0  # range (0, 1.0)\n",
        "\n",
        "# LightGBM\n",
        "# MAX_DEPTH = 100\n",
        "# FEATURE_FRACTION = 0.6\n",
        "# BAGGING_FRACTION = 0.6\n",
        "# N_ESTIMATORS = 500"
      ],
      "metadata": {
        "id": "8TO5VuQmghA5"
      },
      "execution_count": null,
      "outputs": []
    },
    {
      "cell_type": "code",
      "source": [
        "def seed_everything(seed=42):\n",
        "    random.seed(seed)\n",
        "    np.random.seed(seed)\n",
        "\n",
        "seed_everything(SEED)"
      ],
      "metadata": {
        "id": "7Zu6kzW7gZsf"
      },
      "execution_count": null,
      "outputs": []
    },
    {
      "cell_type": "markdown",
      "source": [
        "## Data Loading"
      ],
      "metadata": {
        "id": "aVrlyzVQgaE-"
      }
    },
    {
      "cell_type": "code",
      "source": [
        "df = pd.read_excel('rawdata.xlsx', skiprows=2)\n",
        "df.drop(labels=0, inplace=True)\n",
        "df.reset_index(drop=True, inplace=True)\n",
        "df.drop(columns=['태그'], inplace=True)\n",
        "df = df.iloc[:, :54]\n",
        "df"
      ],
      "metadata": {
        "id": "2cYOOb4ALv3s"
      },
      "execution_count": null,
      "outputs": []
    },
    {
      "cell_type": "markdown",
      "source": [
        "### 컬럼명 변경"
      ],
      "metadata": {
        "id": "NGGYW5y5KjWW"
      }
    },
    {
      "cell_type": "code",
      "source": [
        "kr2en = {'Lab 후가공 후 검사_L*': 'L*', \n",
        "         'Lab 후가공 후 검사_a*': 'a*', \n",
        "         'Lab 후가공 후 검사_b*': 'b*',\n",
        "         '전처리_CH3COOH': 'prep_CH3COOH', \n",
        "         '제직_중량_생지': 'weaving_dough', \n",
        "         '배합_Sera Fast P-UVC': 'comb_Sera Fast', \n",
        "         '배합_UVK-400 H/C': 'comb_UVK400', \n",
        "         '배합_Fadex® TS liq': 'comb_Fadex', \n",
        "         '배합_빙초산': 'comb_acid',\n",
        "         '배합_UVK-200': 'comb_UVK200',\n",
        "         'Lab 염색 상승속도 #1': 'dye_up_rate1', \n",
        "         'Lab 염색 상승속도 #2': 'dye_up_rate2', \n",
        "         'Lab 염색 상승속도 #3': 'dye_up_rate3', \n",
        "         'Lab 염색 상승온도 #3': 'dye_up_temp3', \n",
        "         'Lab 염색 상승온도 #3 유지시간': 'dye_up_temp3_hold', \n",
        "         'Lab 염색 하강속도 #1': 'dye_down_rate1',\n",
        "         '후처리_Sera Con M-FAS': 'after_Sera', \n",
        "         '후처리_NaOH': 'after_NaOH'\n",
        "}\n",
        "\n",
        "for col in df.columns:\n",
        "    if col not in kr2en.keys(): continue\n",
        "    df.rename(columns={col: kr2en[col]}, inplace=True)\n",
        "\n",
        "df.columns"
      ],
      "metadata": {
        "id": "nOC6kSf4Klj5"
      },
      "execution_count": null,
      "outputs": []
    },
    {
      "cell_type": "markdown",
      "source": [
        "### Train & Test Split"
      ],
      "metadata": {
        "id": "fHoUfUQahAiN"
      }
    },
    {
      "cell_type": "code",
      "source": [
        "X, y = df.iloc[:,3:], df.iloc[:,:3]\n",
        "print(X.shape, y.shape)"
      ],
      "metadata": {
        "id": "iMa6mjps4EQK"
      },
      "execution_count": null,
      "outputs": []
    },
    {
      "cell_type": "code",
      "source": [
        "X_train, X_test, y_train, y_test = train_test_split(X, y, test_size=0.2, random_state=SEED)\n",
        "\n",
        "print(X_train.shape, y_train.shape)\n",
        "print(X_test.shape, y_test.shape)"
      ],
      "metadata": {
        "id": "M3XEganvLaPa"
      },
      "execution_count": null,
      "outputs": []
    },
    {
      "cell_type": "markdown",
      "source": [
        "## Model Training & Prediction"
      ],
      "metadata": {
        "id": "UgB4ytJ6mBeM"
      }
    },
    {
      "cell_type": "code",
      "source": [
        "model = RandomForestRegressor(n_estimators=N_ESTIMATORS, \n",
        "                              max_depth=MAX_DEPTH,\n",
        "                              criterion=CRITERION, # cretrion customize!!\n",
        "                              max_samples=MAX_SAMPLES,\n",
        "                              warm_start=False, # default \n",
        "                              random_state=SEED)"
      ],
      "metadata": {
        "id": "NqjcNzsrnQdK"
      },
      "execution_count": null,
      "outputs": []
    },
    {
      "cell_type": "code",
      "source": [
        "model.fit(X_train, y_train)"
      ],
      "metadata": {
        "id": "CnszQAbxlm5i"
      },
      "execution_count": null,
      "outputs": []
    },
    {
      "cell_type": "code",
      "source": [
        "y_pred = model.predict(X_test)\n",
        "df_pred = pd.DataFrame(y_pred, columns=['L_pred', 'a_pred', 'b_pred'])\n",
        "df_pred"
      ],
      "metadata": {
        "id": "u6k-fPgalm2j"
      },
      "execution_count": null,
      "outputs": []
    },
    {
      "cell_type": "code",
      "source": [
        "y_train_pred = model.predict(X_train)\n",
        "df_train_pred = pd.DataFrame(y_train_pred, columns=['L_train_pred', 'a_train_pred', 'b_train_pred'])\n",
        "df_train_pred"
      ],
      "metadata": {
        "id": "b89da9oDoRRY"
      },
      "execution_count": null,
      "outputs": []
    },
    {
      "cell_type": "markdown",
      "source": [
        "## Performance Evaluation\n",
        "- Lab 한꺼번에 학습 및 예측한 결과만!!\n",
        "- R-sqaured, MSE\n",
        "- CMC 2:1, CMC 1:1 색차값"
      ],
      "metadata": {
        "id": "jgHVA5GZsX9d"
      }
    },
    {
      "cell_type": "markdown",
      "source": [
        "### R-squared, MSE"
      ],
      "metadata": {
        "id": "UAiYOq6Zzuys"
      }
    },
    {
      "cell_type": "code",
      "source": [
        "print(f'[Train] R-squared for L,a,b: {round(model.score(X_train, y_train),6)}')\n",
        "# print(f'[Test]  R-squared for L,a,b: {round(model.score(X_test, y_test),6)}')  # Test 결정계수가 의미있는 값인가??\n",
        "\n",
        "print(f'\\n[Train] MSE for L,a,b: {round(mean_squared_error(y_train, y_train_pred), 4)}')\n",
        "print(f'[Test]  MSE for L,a,b: {round(mean_squared_error(y_test, y_pred),4)}') # MSE 차이가 꽤 크다. 오버피팅 개선하기!"
      ],
      "metadata": {
        "id": "YIsoocMPkZ8X"
      },
      "execution_count": null,
      "outputs": []
    },
    {
      "cell_type": "markdown",
      "source": [
        "Test 데이터셋 mse = Train 데이터셋 mse * 2 --> 오버피팅 발생!!"
      ],
      "metadata": {
        "id": "3jIBpDx-yGWu"
      }
    },
    {
      "cell_type": "markdown",
      "source": [
        "### CMC 색차값, ΔE 계산 (Test)"
      ],
      "metadata": {
        "id": "V1oJFPxhzpr3"
      }
    },
    {
      "cell_type": "code",
      "source": [
        "delta_E_21 = []\n",
        "delta_E_11 = [] \n",
        "\n",
        "for i, (L_pred, a_pred, b_pred) in enumerate(y_pred):\n",
        "    L_test, a_test, b_test = y_test.iloc[i].values\n",
        "    target_color = LabColor(L_test, a_test, b_test)\n",
        "    pred_color = LabColor(L_pred, a_pred, b_pred)\n",
        "    \n",
        "    # CMC2:1 - Typically used for acceptability\n",
        "    delta_E_21.append(delta_e_cmc(target_color, pred_color, pl=2, pc=1))\n",
        "\n",
        "    # CMC1:1 - Typically used to more closely model human perception\n",
        "    delta_E_11.append(delta_e_cmc(target_color, pred_color, pl=1, pc=1))\n",
        "\n",
        "assert len(delta_E_21) == len(delta_E_11)"
      ],
      "metadata": {
        "id": "U3rpm0jHppj5"
      },
      "execution_count": null,
      "outputs": []
    },
    {
      "cell_type": "code",
      "source": [
        "df_pred['Delta_E (CMC2:1)'] = delta_E_21\n",
        "df_pred['Below 1 (CMC2:1)'] = (df_pred['Delta_E (CMC2:1)'] < 1)\n",
        "\n",
        "df_pred['Delta_E (CMC1:1)'] = delta_E_11\n",
        "df_pred['Below 1 (CMC1:1)'] = (df_pred['Delta_E (CMC1:1)'] < 1)"
      ],
      "metadata": {
        "id": "IXWFbkWgpgnQ"
      },
      "execution_count": null,
      "outputs": []
    },
    {
      "cell_type": "code",
      "source": [
        "pd.concat([y_test.reset_index(drop=True), df_pred], axis=1)"
      ],
      "metadata": {
        "id": "4AdepaEky00t"
      },
      "execution_count": null,
      "outputs": []
    },
    {
      "cell_type": "code",
      "source": [
        "print(f\"[Test] CMC(2:1) ΔE < 1 : {df_pred['Below 1 (CMC2:1)'].sum()} / {len(df_pred)} = {df_pred['Below 1 (CMC2:1)'].mean():.4f}\")\n",
        "print(f\"[Test] CMC(1:1) ΔE < 1 : {df_pred['Below 1 (CMC1:1)'].sum()} / {len(df_pred)} = {df_pred['Below 1 (CMC1:1)'].mean():.4f}\")"
      ],
      "metadata": {
        "id": "r8b43yAcwMWz"
      },
      "execution_count": null,
      "outputs": []
    },
    {
      "cell_type": "markdown",
      "source": [
        "Test 데이터 중 목표치(ΔE < 1)를 만족하는 데이터는 약 29% 뿐이다. \\\n",
        "Train 데이터 중 목표치를 만족하는 데이터의 비율을 구하여 비교해보았다."
      ],
      "metadata": {
        "id": "kFJGMhyp05Bb"
      }
    },
    {
      "cell_type": "markdown",
      "source": [
        "### CMC 색차값, ΔE 계산 (Train)"
      ],
      "metadata": {
        "id": "Frq9ELOo3Uro"
      }
    },
    {
      "cell_type": "code",
      "source": [
        "delta_E_21_train = []\n",
        "delta_E_11_train = []\n",
        "\n",
        "for i, (L_train_pred, a_train_pred, b_train_pred) in enumerate(y_train_pred):\n",
        "    L_train, a_train, b_train = y_train.iloc[i].values\n",
        "    target_color = LabColor(L_train, a_train, b_train)\n",
        "    pred_color = LabColor(L_train_pred, a_train_pred, b_train_pred)\n",
        "    \n",
        "    # CMC2:1 - Typically used for acceptability\n",
        "    delta_E_21_train.append(delta_e_cmc(target_color, pred_color, pl=2, pc=1))\n",
        "\n",
        "    # CMC1:1 - Typically used to more closely model human perception\n",
        "    delta_E_11_train.append(delta_e_cmc(target_color, pred_color, pl=1, pc=1))\n",
        "\n",
        "assert len(delta_E_21_train) == len(delta_E_11_train)"
      ],
      "metadata": {
        "id": "buYcrif92vSY"
      },
      "execution_count": null,
      "outputs": []
    },
    {
      "cell_type": "code",
      "source": [
        "df_train_pred['Delta_E (CMC2:1)'] = delta_E_21_train\n",
        "df_train_pred['Below 1 (CMC2:1)'] = (df_train_pred['Delta_E (CMC2:1)'] < 1)\n",
        "\n",
        "df_train_pred['Delta_E (CMC1:1)'] = delta_E_11_train\n",
        "df_train_pred['Below 1 (CMC1:1)'] = (df_train_pred['Delta_E (CMC1:1)'] < 1)\n",
        "\n",
        "pd.concat([y_train.reset_index(drop=True), df_train_pred], axis=1)"
      ],
      "metadata": {
        "id": "ljYINi8J3cCv"
      },
      "execution_count": null,
      "outputs": []
    },
    {
      "cell_type": "code",
      "source": [
        "print(f\"[Train] CMC(2:1) ΔE < 1 : {df_train_pred['Below 1 (CMC2:1)'].sum()} / {len(df_train_pred)} = {df_train_pred['Below 1 (CMC2:1)'].mean():.4f}\")\n",
        "print(f\"[Train] CMC(1:1) ΔE < 1 : {df_train_pred['Below 1 (CMC1:1)'].sum()} / {len(df_train_pred)} = {df_train_pred['Below 1 (CMC1:1)'].mean():.4f}\")"
      ],
      "metadata": {
        "id": "_4KSb3hG4bQl"
      },
      "execution_count": null,
      "outputs": []
    },
    {
      "cell_type": "markdown",
      "source": [
        "약 50% 정도의 학습 데이터만 목표치를 만족하므로 모델의 성능 자체가 낮은 것으로 보인다. \\\n",
        "**언더피팅**을 개선하기 위해 다른 모델을 적용해보면 좋을 것 같다."
      ],
      "metadata": {
        "id": "DgRfHUns5hOw"
      }
    },
    {
      "cell_type": "markdown",
      "source": [
        "### Residual Plot"
      ],
      "metadata": {
        "id": "BsRUlgTi1G5H"
      }
    },
    {
      "cell_type": "code",
      "source": [
        "fig, axes = plt.subplots(1,2, figsize=(10,4))\n",
        "plt.subplots_adjust(wspace=0.3)\n",
        "fig.suptitle('[Test] Residual plot', fontsize=15)\n",
        "sns.set_theme(style='darkgrid')\n",
        "\n",
        "# CMC 2:1\n",
        "sns.scatterplot(ax=axes[0], x=df_pred.index, y=df_pred['Delta_E (CMC2:1)'], size=1, legend=False)\n",
        "axes[0].axhline(1.0, 0, 1, color='red', linewidth=1.5)\n",
        "axes[0].set_xlabel('ID')\n",
        "\n",
        "sns.scatterplot(ax=axes[1], x=df_pred.index, y=df_pred['Delta_E (CMC1:1)'], size=1, legend=False)\n",
        "axes[1].axhline(1.0, 0, 1, color='red', linewidth=1.5)\n",
        "axes[1].set_xlabel('ID')\n",
        "plt.show()"
      ],
      "metadata": {
        "id": "6S0vPgRN8DoP"
      },
      "execution_count": null,
      "outputs": []
    },
    {
      "cell_type": "code",
      "source": [
        "fig, axes = plt.subplots(1,2, figsize=(10,4))\n",
        "plt.subplots_adjust(wspace=0.3)\n",
        "fig.suptitle('[Train] Residual plot', fontsize=15)\n",
        "sns.set_theme(style='darkgrid')\n",
        "\n",
        "sns.scatterplot(ax=axes[0], x=df_train_pred.index, y=df_train_pred['Delta_E (CMC2:1)'], size=1, legend=False)\n",
        "axes[0].axhline(1.0, 0, 1, color='red', linewidth=1.5)\n",
        "axes[0].set_xlabel('ID')\n",
        "\n",
        "sns.scatterplot(ax=axes[1], x=df_train_pred.index, y=df_train_pred['Delta_E (CMC1:1)'], size=1, legend=False)\n",
        "axes[1].axhline(1.0, 0, 1, color='red', linewidth=1.5)\n",
        "axes[1].set_xlabel('ID')\n",
        "plt.show()"
      ],
      "metadata": {
        "id": "5wPYd0_k8EBu"
      },
      "execution_count": null,
      "outputs": []
    },
    {
      "cell_type": "markdown",
      "source": [
        "## Feature Selection"
      ],
      "metadata": {
        "id": "2Uaq6WARu8aK"
      }
    },
    {
      "cell_type": "code",
      "source": [
        "# Feature Importance\n",
        "topN = 15\n",
        "\n",
        "importances = model.feature_importances_\n",
        "indices = np.argsort(importances)[::-1]\n",
        "\n",
        "plt.figure()\n",
        "plt.title(f'Feature Importance Top {topN}')\n",
        "plt.bar(range(topN), importances[indices[:topN]])\n",
        "plt.xticks(range(topN), X_train.columns[indices[:topN]], rotation=90)\n",
        "plt.show()"
      ],
      "metadata": {
        "id": "h3rLCdcBvZlx"
      },
      "execution_count": null,
      "outputs": []
    },
    {
      "cell_type": "markdown",
      "source": [
        "### 중요도 낮은 피쳐 제거"
      ],
      "metadata": {
        "id": "ddAnDFz_P-wj"
      }
    },
    {
      "cell_type": "code",
      "source": [
        "# 중요도 하위 10개 피쳐 제거\n",
        "bottomN = 10\n",
        "select = list(set(X_train.columns.values) - set(X_train.columns[indices[-bottomN:]].values))"
      ],
      "metadata": {
        "id": "3fGvLVbZ4Hop"
      },
      "execution_count": null,
      "outputs": []
    },
    {
      "cell_type": "markdown",
      "source": [
        "### 모델 재학습"
      ],
      "metadata": {
        "id": "OXjGDv89XnLE"
      }
    },
    {
      "cell_type": "code",
      "source": [
        "model_select = RandomForestRegressor(n_estimators=N_ESTIMATORS, \n",
        "                              max_depth=MAX_DEPTH,\n",
        "                              criterion=CRITERION, # cretrion customize!!\n",
        "                              max_samples=MAX_SAMPLES,\n",
        "                              warm_start=False, # default \n",
        "                              random_state=SEED)"
      ],
      "metadata": {
        "id": "bUWLzGtRXVbu"
      },
      "execution_count": null,
      "outputs": []
    },
    {
      "cell_type": "code",
      "source": [
        "model_select.fit(X_train[select], y_train)"
      ],
      "metadata": {
        "id": "mXqmM0qWXZJg"
      },
      "execution_count": null,
      "outputs": []
    },
    {
      "cell_type": "code",
      "source": [
        "y_pred_select = model_select.predict(X_test[select])\n",
        "df_pred_select = pd.DataFrame(y_pred_select, columns=['L_pred', 'a_pred', 'b_pred'])"
      ],
      "metadata": {
        "id": "ymPkRvqvQVPw"
      },
      "execution_count": null,
      "outputs": []
    },
    {
      "cell_type": "code",
      "source": [
        "y_train_pred_select = model_select.predict(X_train[select])\n",
        "df_train_pred_select = pd.DataFrame(y_train_pred_select, columns=['L_train_pred', 'a_train_pred', 'b_train_pred'])"
      ],
      "metadata": {
        "id": "gqYxES_9XpdR"
      },
      "execution_count": null,
      "outputs": []
    },
    {
      "cell_type": "code",
      "source": [
        "print(f'[Train] R-squared for L,a,b: {round(model_select.score(X_train[select], y_train),6)}')\n",
        "\n",
        "print(f'\\n[Train] MSE for L,a,b: {round(mean_squared_error(y_train, y_train_pred_select), 4)}')\n",
        "print(f'[Test]  MSE for L,a,b: {round(mean_squared_error(y_test, y_pred_select),4)}') # MSE 차이가 꽤 크다. 오버피팅 개선하기!"
      ],
      "metadata": {
        "id": "J7HBqF_sW4z8"
      },
      "execution_count": null,
      "outputs": []
    },
    {
      "cell_type": "markdown",
      "source": [
        "Train, Test MSE 격차 미미하게 감소.... 큰 효과는 없다. \\\n",
        "차원 축소의 영향이 없는 건지 vs 차원을 더 많이 축소해야 할지??"
      ],
      "metadata": {
        "id": "F1BKgxqBYBOj"
      }
    },
    {
      "cell_type": "code",
      "source": [
        ""
      ],
      "metadata": {
        "id": "g_cbg2DFX8J-"
      },
      "execution_count": null,
      "outputs": []
    }
  ]
}